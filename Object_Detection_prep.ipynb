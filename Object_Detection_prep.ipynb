{
 "cells": [
  {
   "cell_type": "code",
   "execution_count": 1,
   "id": "20b660bc",
   "metadata": {},
   "outputs": [],
   "source": [
    "import os\n",
    "import pandas as pd\n",
    "import numpy as np"
   ]
  },
  {
   "cell_type": "code",
   "execution_count": 2,
   "id": "a9891a44",
   "metadata": {},
   "outputs": [],
   "source": [
    "directory = '/home/katya/Object_vision/train_zip/train'"
   ]
  },
  {
   "cell_type": "code",
   "execution_count": 3,
   "id": "1d94c265",
   "metadata": {},
   "outputs": [],
   "source": [
    "files = os.listdir(directory) "
   ]
  },
  {
   "cell_type": "code",
   "execution_count": 4,
   "id": "b1fbe922",
   "metadata": {},
   "outputs": [],
   "source": [
    "images = filter(lambda x: x.endswith('.jpg'), files) "
   ]
  },
  {
   "cell_type": "code",
   "execution_count": 5,
   "id": "347ef479",
   "metadata": {},
   "outputs": [
    {
     "data": {
      "text/plain": [
       "<filter at 0x7f209a11d070>"
      ]
     },
     "execution_count": 5,
     "metadata": {},
     "output_type": "execute_result"
    }
   ],
   "source": [
    "images"
   ]
  },
  {
   "cell_type": "code",
   "execution_count": 6,
   "id": "6afef8bd",
   "metadata": {},
   "outputs": [],
   "source": [
    "data_image = pd.DataFrame(images)"
   ]
  },
  {
   "cell_type": "code",
   "execution_count": 7,
   "id": "52e86662",
   "metadata": {},
   "outputs": [
    {
     "data": {
      "text/html": [
       "<div>\n",
       "<style scoped>\n",
       "    .dataframe tbody tr th:only-of-type {\n",
       "        vertical-align: middle;\n",
       "    }\n",
       "\n",
       "    .dataframe tbody tr th {\n",
       "        vertical-align: top;\n",
       "    }\n",
       "\n",
       "    .dataframe thead th {\n",
       "        text-align: right;\n",
       "    }\n",
       "</style>\n",
       "<table border=\"1\" class=\"dataframe\">\n",
       "  <thead>\n",
       "    <tr style=\"text-align: right;\">\n",
       "      <th></th>\n",
       "      <th>0</th>\n",
       "    </tr>\n",
       "  </thead>\n",
       "  <tbody>\n",
       "    <tr>\n",
       "      <th>0</th>\n",
       "      <td>apple_35.jpg</td>\n",
       "    </tr>\n",
       "    <tr>\n",
       "      <th>1</th>\n",
       "      <td>apple_15.jpg</td>\n",
       "    </tr>\n",
       "    <tr>\n",
       "      <th>2</th>\n",
       "      <td>mixed_12.jpg</td>\n",
       "    </tr>\n",
       "    <tr>\n",
       "      <th>3</th>\n",
       "      <td>orange_13.jpg</td>\n",
       "    </tr>\n",
       "    <tr>\n",
       "      <th>4</th>\n",
       "      <td>orange_2.jpg</td>\n",
       "    </tr>\n",
       "    <tr>\n",
       "      <th>...</th>\n",
       "      <td>...</td>\n",
       "    </tr>\n",
       "    <tr>\n",
       "      <th>235</th>\n",
       "      <td>orange_54.jpg</td>\n",
       "    </tr>\n",
       "    <tr>\n",
       "      <th>236</th>\n",
       "      <td>apple_17.jpg</td>\n",
       "    </tr>\n",
       "    <tr>\n",
       "      <th>237</th>\n",
       "      <td>banana_51.jpg</td>\n",
       "    </tr>\n",
       "    <tr>\n",
       "      <th>238</th>\n",
       "      <td>apple_26.jpg</td>\n",
       "    </tr>\n",
       "    <tr>\n",
       "      <th>239</th>\n",
       "      <td>apple_16.jpg</td>\n",
       "    </tr>\n",
       "  </tbody>\n",
       "</table>\n",
       "<p>240 rows × 1 columns</p>\n",
       "</div>"
      ],
      "text/plain": [
       "                 0\n",
       "0     apple_35.jpg\n",
       "1     apple_15.jpg\n",
       "2     mixed_12.jpg\n",
       "3    orange_13.jpg\n",
       "4     orange_2.jpg\n",
       "..             ...\n",
       "235  orange_54.jpg\n",
       "236   apple_17.jpg\n",
       "237  banana_51.jpg\n",
       "238   apple_26.jpg\n",
       "239   apple_16.jpg\n",
       "\n",
       "[240 rows x 1 columns]"
      ]
     },
     "execution_count": 7,
     "metadata": {},
     "output_type": "execute_result"
    }
   ],
   "source": [
    "data_image"
   ]
  },
  {
   "cell_type": "code",
   "execution_count": 8,
   "id": "36fa5ba8",
   "metadata": {},
   "outputs": [],
   "source": [
    "xml_files = filter(lambda x: x.endswith('.xml'), files) "
   ]
  },
  {
   "cell_type": "code",
   "execution_count": 9,
   "id": "8e8ba5ec",
   "metadata": {},
   "outputs": [],
   "source": [
    "data_xml_files = pd.DataFrame(xml_files)"
   ]
  },
  {
   "cell_type": "code",
   "execution_count": 10,
   "id": "24642069",
   "metadata": {},
   "outputs": [],
   "source": [
    "data_xml_files = list(data_xml_files[0])"
   ]
  },
  {
   "cell_type": "code",
   "execution_count": 11,
   "id": "b43b910a",
   "metadata": {},
   "outputs": [],
   "source": [
    "name = data_xml_files[0]"
   ]
  },
  {
   "cell_type": "code",
   "execution_count": 12,
   "id": "bb757288",
   "metadata": {},
   "outputs": [],
   "source": [
    "from lxml import etree"
   ]
  },
  {
   "cell_type": "code",
   "execution_count": 13,
   "id": "34c3fbb8",
   "metadata": {},
   "outputs": [],
   "source": [
    "from xml.etree import ElementTree as et"
   ]
  },
  {
   "cell_type": "code",
   "execution_count": 14,
   "id": "c1384959",
   "metadata": {},
   "outputs": [],
   "source": [
    "annot_path = os.path.join(directory, name)"
   ]
  },
  {
   "cell_type": "code",
   "execution_count": 15,
   "id": "a0205de6",
   "metadata": {},
   "outputs": [
    {
     "data": {
      "text/plain": [
       "'/home/katya/Object_vision/train_zip/train/orange_17.xml'"
      ]
     },
     "execution_count": 15,
     "metadata": {},
     "output_type": "execute_result"
    }
   ],
   "source": [
    "annot_path"
   ]
  },
  {
   "cell_type": "code",
   "execution_count": 16,
   "id": "73a012c9",
   "metadata": {},
   "outputs": [
    {
     "data": {
      "text/plain": [
       "'orange_17.xml'"
      ]
     },
     "execution_count": 16,
     "metadata": {},
     "output_type": "execute_result"
    }
   ],
   "source": [
    "name"
   ]
  },
  {
   "cell_type": "code",
   "execution_count": 17,
   "id": "cab5af49",
   "metadata": {},
   "outputs": [
    {
     "data": {
      "text/plain": [
       "'orange_17.jpg'"
      ]
     },
     "execution_count": 17,
     "metadata": {},
     "output_type": "execute_result"
    }
   ],
   "source": [
    "name.replace('xml', 'jpg')"
   ]
  },
  {
   "cell_type": "code",
   "execution_count": 18,
   "id": "6696c56a",
   "metadata": {},
   "outputs": [],
   "source": [
    "labels = []\n",
    "difficult = []\n",
    "i = 0\n",
    "dictionary = dict()\n",
    "\n",
    "for k in range(len(data_xml_files)):\n",
    "    name = data_xml_files[k]\n",
    "    tree = et.parse(os.path.join(directory, name))\n",
    "    root = tree.getroot()\n",
    "    # box coordinates for xml files are extracted and corrected for image size given\n",
    "    for member in root.findall('object'):\n",
    "        i+=1\n",
    "        label = member.find('name').text\n",
    "\n",
    "        difficult = int(member.find('difficult').text)\n",
    "\n",
    "        # bounding box\n",
    "        xmin = int(member.find('bndbox').find('xmin').text)\n",
    "        xmax = int(member.find('bndbox').find('xmax').text)\n",
    "\n",
    "        ymin = int(member.find('bndbox').find('ymin').text)\n",
    "        ymax = int(member.find('bndbox').find('ymax').text)\n",
    "\n",
    "        \n",
    "        annot_path= annot_path.replace('xml', 'jpg')\n",
    "        a = [annot_path, label, xmin, ymin, xmax, ymax, difficult]\n",
    "        #d = dict([(i, a)])\n",
    "        dictionary[i] = a\n",
    "        \n"
   ]
  },
  {
   "cell_type": "code",
   "execution_count": 19,
   "id": "b563ed5b",
   "metadata": {},
   "outputs": [],
   "source": [
    "data = pd.DataFrame(dictionary)"
   ]
  },
  {
   "cell_type": "code",
   "execution_count": 20,
   "id": "bdb53bb3",
   "metadata": {},
   "outputs": [],
   "source": [
    "data = data.T"
   ]
  },
  {
   "cell_type": "code",
   "execution_count": 21,
   "id": "c04af55c",
   "metadata": {},
   "outputs": [
    {
     "data": {
      "text/html": [
       "<div>\n",
       "<style scoped>\n",
       "    .dataframe tbody tr th:only-of-type {\n",
       "        vertical-align: middle;\n",
       "    }\n",
       "\n",
       "    .dataframe tbody tr th {\n",
       "        vertical-align: top;\n",
       "    }\n",
       "\n",
       "    .dataframe thead th {\n",
       "        text-align: right;\n",
       "    }\n",
       "</style>\n",
       "<table border=\"1\" class=\"dataframe\">\n",
       "  <thead>\n",
       "    <tr style=\"text-align: right;\">\n",
       "      <th></th>\n",
       "      <th>0</th>\n",
       "      <th>1</th>\n",
       "      <th>2</th>\n",
       "      <th>3</th>\n",
       "      <th>4</th>\n",
       "      <th>5</th>\n",
       "      <th>6</th>\n",
       "    </tr>\n",
       "  </thead>\n",
       "  <tbody>\n",
       "    <tr>\n",
       "      <th>1</th>\n",
       "      <td>/home/katya/Object_vision/train_zip/train/oran...</td>\n",
       "      <td>orange</td>\n",
       "      <td>140</td>\n",
       "      <td>300</td>\n",
       "      <td>489</td>\n",
       "      <td>668</td>\n",
       "      <td>0</td>\n",
       "    </tr>\n",
       "    <tr>\n",
       "      <th>2</th>\n",
       "      <td>/home/katya/Object_vision/train_zip/train/oran...</td>\n",
       "      <td>orange</td>\n",
       "      <td>389</td>\n",
       "      <td>337</td>\n",
       "      <td>818</td>\n",
       "      <td>688</td>\n",
       "      <td>0</td>\n",
       "    </tr>\n",
       "    <tr>\n",
       "      <th>3</th>\n",
       "      <td>/home/katya/Object_vision/train_zip/train/oran...</td>\n",
       "      <td>orange</td>\n",
       "      <td>621</td>\n",
       "      <td>277</td>\n",
       "      <td>965</td>\n",
       "      <td>620</td>\n",
       "      <td>0</td>\n",
       "    </tr>\n",
       "    <tr>\n",
       "      <th>4</th>\n",
       "      <td>/home/katya/Object_vision/train_zip/train/oran...</td>\n",
       "      <td>orange</td>\n",
       "      <td>365</td>\n",
       "      <td>61</td>\n",
       "      <td>805</td>\n",
       "      <td>419</td>\n",
       "      <td>0</td>\n",
       "    </tr>\n",
       "    <tr>\n",
       "      <th>5</th>\n",
       "      <td>/home/katya/Object_vision/train_zip/train/oran...</td>\n",
       "      <td>orange</td>\n",
       "      <td>415</td>\n",
       "      <td>282</td>\n",
       "      <td>1032</td>\n",
       "      <td>902</td>\n",
       "      <td>0</td>\n",
       "    </tr>\n",
       "    <tr>\n",
       "      <th>...</th>\n",
       "      <td>...</td>\n",
       "      <td>...</td>\n",
       "      <td>...</td>\n",
       "      <td>...</td>\n",
       "      <td>...</td>\n",
       "      <td>...</td>\n",
       "      <td>...</td>\n",
       "    </tr>\n",
       "    <tr>\n",
       "      <th>461</th>\n",
       "      <td>/home/katya/Object_vision/train_zip/train/oran...</td>\n",
       "      <td>orange</td>\n",
       "      <td>315</td>\n",
       "      <td>75</td>\n",
       "      <td>458</td>\n",
       "      <td>219</td>\n",
       "      <td>0</td>\n",
       "    </tr>\n",
       "    <tr>\n",
       "      <th>462</th>\n",
       "      <td>/home/katya/Object_vision/train_zip/train/oran...</td>\n",
       "      <td>orange</td>\n",
       "      <td>240</td>\n",
       "      <td>127</td>\n",
       "      <td>391</td>\n",
       "      <td>269</td>\n",
       "      <td>0</td>\n",
       "    </tr>\n",
       "    <tr>\n",
       "      <th>463</th>\n",
       "      <td>/home/katya/Object_vision/train_zip/train/oran...</td>\n",
       "      <td>orange</td>\n",
       "      <td>176</td>\n",
       "      <td>32</td>\n",
       "      <td>309</td>\n",
       "      <td>158</td>\n",
       "      <td>0</td>\n",
       "    </tr>\n",
       "    <tr>\n",
       "      <th>464</th>\n",
       "      <td>/home/katya/Object_vision/train_zip/train/oran...</td>\n",
       "      <td>banana</td>\n",
       "      <td>84</td>\n",
       "      <td>43</td>\n",
       "      <td>403</td>\n",
       "      <td>155</td>\n",
       "      <td>0</td>\n",
       "    </tr>\n",
       "    <tr>\n",
       "      <th>465</th>\n",
       "      <td>/home/katya/Object_vision/train_zip/train/oran...</td>\n",
       "      <td>apple</td>\n",
       "      <td>25</td>\n",
       "      <td>42</td>\n",
       "      <td>275</td>\n",
       "      <td>297</td>\n",
       "      <td>0</td>\n",
       "    </tr>\n",
       "  </tbody>\n",
       "</table>\n",
       "<p>465 rows × 7 columns</p>\n",
       "</div>"
      ],
      "text/plain": [
       "                                                     0       1    2    3  \\\n",
       "1    /home/katya/Object_vision/train_zip/train/oran...  orange  140  300   \n",
       "2    /home/katya/Object_vision/train_zip/train/oran...  orange  389  337   \n",
       "3    /home/katya/Object_vision/train_zip/train/oran...  orange  621  277   \n",
       "4    /home/katya/Object_vision/train_zip/train/oran...  orange  365   61   \n",
       "5    /home/katya/Object_vision/train_zip/train/oran...  orange  415  282   \n",
       "..                                                 ...     ...  ...  ...   \n",
       "461  /home/katya/Object_vision/train_zip/train/oran...  orange  315   75   \n",
       "462  /home/katya/Object_vision/train_zip/train/oran...  orange  240  127   \n",
       "463  /home/katya/Object_vision/train_zip/train/oran...  orange  176   32   \n",
       "464  /home/katya/Object_vision/train_zip/train/oran...  banana   84   43   \n",
       "465  /home/katya/Object_vision/train_zip/train/oran...   apple   25   42   \n",
       "\n",
       "        4    5  6  \n",
       "1     489  668  0  \n",
       "2     818  688  0  \n",
       "3     965  620  0  \n",
       "4     805  419  0  \n",
       "5    1032  902  0  \n",
       "..    ...  ... ..  \n",
       "461   458  219  0  \n",
       "462   391  269  0  \n",
       "463   309  158  0  \n",
       "464   403  155  0  \n",
       "465   275  297  0  \n",
       "\n",
       "[465 rows x 7 columns]"
      ]
     },
     "execution_count": 21,
     "metadata": {},
     "output_type": "execute_result"
    }
   ],
   "source": [
    "data"
   ]
  },
  {
   "cell_type": "code",
   "execution_count": 22,
   "id": "acd2429a",
   "metadata": {},
   "outputs": [
    {
     "data": {
      "text/html": [
       "<div>\n",
       "<style scoped>\n",
       "    .dataframe tbody tr th:only-of-type {\n",
       "        vertical-align: middle;\n",
       "    }\n",
       "\n",
       "    .dataframe tbody tr th {\n",
       "        vertical-align: top;\n",
       "    }\n",
       "\n",
       "    .dataframe thead th {\n",
       "        text-align: right;\n",
       "    }\n",
       "</style>\n",
       "<table border=\"1\" class=\"dataframe\">\n",
       "  <thead>\n",
       "    <tr style=\"text-align: right;\">\n",
       "      <th></th>\n",
       "      <th>image</th>\n",
       "      <th>class</th>\n",
       "      <th>xmin</th>\n",
       "      <th>ymin</th>\n",
       "      <th>xmax</th>\n",
       "      <th>ymax</th>\n",
       "      <th>difficult</th>\n",
       "    </tr>\n",
       "  </thead>\n",
       "  <tbody>\n",
       "    <tr>\n",
       "      <th>1</th>\n",
       "      <td>/home/katya/Object_vision/train_zip/train/oran...</td>\n",
       "      <td>orange</td>\n",
       "      <td>140</td>\n",
       "      <td>300</td>\n",
       "      <td>489</td>\n",
       "      <td>668</td>\n",
       "      <td>0</td>\n",
       "    </tr>\n",
       "    <tr>\n",
       "      <th>2</th>\n",
       "      <td>/home/katya/Object_vision/train_zip/train/oran...</td>\n",
       "      <td>orange</td>\n",
       "      <td>389</td>\n",
       "      <td>337</td>\n",
       "      <td>818</td>\n",
       "      <td>688</td>\n",
       "      <td>0</td>\n",
       "    </tr>\n",
       "    <tr>\n",
       "      <th>3</th>\n",
       "      <td>/home/katya/Object_vision/train_zip/train/oran...</td>\n",
       "      <td>orange</td>\n",
       "      <td>621</td>\n",
       "      <td>277</td>\n",
       "      <td>965</td>\n",
       "      <td>620</td>\n",
       "      <td>0</td>\n",
       "    </tr>\n",
       "    <tr>\n",
       "      <th>4</th>\n",
       "      <td>/home/katya/Object_vision/train_zip/train/oran...</td>\n",
       "      <td>orange</td>\n",
       "      <td>365</td>\n",
       "      <td>61</td>\n",
       "      <td>805</td>\n",
       "      <td>419</td>\n",
       "      <td>0</td>\n",
       "    </tr>\n",
       "    <tr>\n",
       "      <th>5</th>\n",
       "      <td>/home/katya/Object_vision/train_zip/train/oran...</td>\n",
       "      <td>orange</td>\n",
       "      <td>415</td>\n",
       "      <td>282</td>\n",
       "      <td>1032</td>\n",
       "      <td>902</td>\n",
       "      <td>0</td>\n",
       "    </tr>\n",
       "    <tr>\n",
       "      <th>...</th>\n",
       "      <td>...</td>\n",
       "      <td>...</td>\n",
       "      <td>...</td>\n",
       "      <td>...</td>\n",
       "      <td>...</td>\n",
       "      <td>...</td>\n",
       "      <td>...</td>\n",
       "    </tr>\n",
       "    <tr>\n",
       "      <th>461</th>\n",
       "      <td>/home/katya/Object_vision/train_zip/train/oran...</td>\n",
       "      <td>orange</td>\n",
       "      <td>315</td>\n",
       "      <td>75</td>\n",
       "      <td>458</td>\n",
       "      <td>219</td>\n",
       "      <td>0</td>\n",
       "    </tr>\n",
       "    <tr>\n",
       "      <th>462</th>\n",
       "      <td>/home/katya/Object_vision/train_zip/train/oran...</td>\n",
       "      <td>orange</td>\n",
       "      <td>240</td>\n",
       "      <td>127</td>\n",
       "      <td>391</td>\n",
       "      <td>269</td>\n",
       "      <td>0</td>\n",
       "    </tr>\n",
       "    <tr>\n",
       "      <th>463</th>\n",
       "      <td>/home/katya/Object_vision/train_zip/train/oran...</td>\n",
       "      <td>orange</td>\n",
       "      <td>176</td>\n",
       "      <td>32</td>\n",
       "      <td>309</td>\n",
       "      <td>158</td>\n",
       "      <td>0</td>\n",
       "    </tr>\n",
       "    <tr>\n",
       "      <th>464</th>\n",
       "      <td>/home/katya/Object_vision/train_zip/train/oran...</td>\n",
       "      <td>banana</td>\n",
       "      <td>84</td>\n",
       "      <td>43</td>\n",
       "      <td>403</td>\n",
       "      <td>155</td>\n",
       "      <td>0</td>\n",
       "    </tr>\n",
       "    <tr>\n",
       "      <th>465</th>\n",
       "      <td>/home/katya/Object_vision/train_zip/train/oran...</td>\n",
       "      <td>apple</td>\n",
       "      <td>25</td>\n",
       "      <td>42</td>\n",
       "      <td>275</td>\n",
       "      <td>297</td>\n",
       "      <td>0</td>\n",
       "    </tr>\n",
       "  </tbody>\n",
       "</table>\n",
       "<p>465 rows × 7 columns</p>\n",
       "</div>"
      ],
      "text/plain": [
       "                                                 image   class xmin ymin  \\\n",
       "1    /home/katya/Object_vision/train_zip/train/oran...  orange  140  300   \n",
       "2    /home/katya/Object_vision/train_zip/train/oran...  orange  389  337   \n",
       "3    /home/katya/Object_vision/train_zip/train/oran...  orange  621  277   \n",
       "4    /home/katya/Object_vision/train_zip/train/oran...  orange  365   61   \n",
       "5    /home/katya/Object_vision/train_zip/train/oran...  orange  415  282   \n",
       "..                                                 ...     ...  ...  ...   \n",
       "461  /home/katya/Object_vision/train_zip/train/oran...  orange  315   75   \n",
       "462  /home/katya/Object_vision/train_zip/train/oran...  orange  240  127   \n",
       "463  /home/katya/Object_vision/train_zip/train/oran...  orange  176   32   \n",
       "464  /home/katya/Object_vision/train_zip/train/oran...  banana   84   43   \n",
       "465  /home/katya/Object_vision/train_zip/train/oran...   apple   25   42   \n",
       "\n",
       "     xmax ymax difficult  \n",
       "1     489  668         0  \n",
       "2     818  688         0  \n",
       "3     965  620         0  \n",
       "4     805  419         0  \n",
       "5    1032  902         0  \n",
       "..    ...  ...       ...  \n",
       "461   458  219         0  \n",
       "462   391  269         0  \n",
       "463   309  158         0  \n",
       "464   403  155         0  \n",
       "465   275  297         0  \n",
       "\n",
       "[465 rows x 7 columns]"
      ]
     },
     "execution_count": 22,
     "metadata": {},
     "output_type": "execute_result"
    }
   ],
   "source": [
    "data.rename(columns={0: \"image\", 1: \"class\", 2: \"xmin\", 3: \"ymin\", 4: \"xmax\", 5: \"ymax\", 6: \"difficult\"})"
   ]
  },
  {
   "cell_type": "code",
   "execution_count": null,
   "id": "95c5d7c6",
   "metadata": {},
   "outputs": [],
   "source": [
    "import autogluon.core as ag\n",
    "from autogluon.vision import ObjectDetector"
   ]
  },
  {
   "cell_type": "code",
   "execution_count": null,
   "id": "7dd271cf",
   "metadata": {},
   "outputs": [],
   "source": []
  },
  {
   "cell_type": "code",
   "execution_count": null,
   "id": "dcf053e9",
   "metadata": {},
   "outputs": [],
   "source": []
  }
 ],
 "metadata": {
  "kernelspec": {
   "display_name": "Python 3 (ipykernel)",
   "language": "python",
   "name": "python3"
  },
  "language_info": {
   "codemirror_mode": {
    "name": "ipython",
    "version": 3
   },
   "file_extension": ".py",
   "mimetype": "text/x-python",
   "name": "python",
   "nbconvert_exporter": "python",
   "pygments_lexer": "ipython3",
   "version": "3.8.10"
  }
 },
 "nbformat": 4,
 "nbformat_minor": 5
}
