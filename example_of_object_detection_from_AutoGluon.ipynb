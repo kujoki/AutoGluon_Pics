{
 "cells": [
  {
   "cell_type": "code",
   "execution_count": 14,
   "id": "cdf852c2",
   "metadata": {},
   "outputs": [],
   "source": [
    "%matplotlib inline\n",
    "import autogluon.core as ag\n",
    "from autogluon.vision import ObjectDetector"
   ]
  },
  {
   "cell_type": "code",
   "execution_count": 15,
   "id": "71cac52f",
   "metadata": {},
   "outputs": [
    {
     "name": "stdout",
     "output_type": "stream",
     "text": [
      "tiny_motorbike/\n",
      "├── Annotations/\n",
      "├── ImageSets/\n",
      "└── JPEGImages/\n"
     ]
    }
   ],
   "source": [
    "url = 'https://autogluon.s3.amazonaws.com/datasets/tiny_motorbike.zip'\n",
    "dataset_train = ObjectDetector.Dataset.from_voc(url, splits='trainval')\n",
    "# or load from coco format, skip as it's too big to download\n",
    "# dataset_train = ObjectDetector.Dataset.from_coco(annotation_json_file, root='/path/to/root')"
   ]
  },
  {
   "cell_type": "code",
   "execution_count": 21,
   "id": "6a61bba6",
   "metadata": {},
   "outputs": [
    {
     "data": {
      "text/plain": [
       "[{'class': 'motorbike',\n",
       "  'xmin': 0.702,\n",
       "  'ymin': 0.36533333333333334,\n",
       "  'xmax': 0.998,\n",
       "  'ymax': 0.9973333333333333,\n",
       "  'difficult': 0},\n",
       " {'class': 'motorbike',\n",
       "  'xmin': 0.208,\n",
       "  'ymin': 0.0,\n",
       "  'xmax': 0.852,\n",
       "  'ymax': 0.6506666666666666,\n",
       "  'difficult': 0},\n",
       " {'class': 'person',\n",
       "  'xmin': 0.828,\n",
       "  'ymin': 0.16,\n",
       "  'xmax': 0.928,\n",
       "  'ymax': 0.5173333333333333,\n",
       "  'difficult': 1}]"
      ]
     },
     "execution_count": 21,
     "metadata": {},
     "output_type": "execute_result"
    }
   ],
   "source": [
    "dataset_train.rois[0]"
   ]
  },
  {
   "cell_type": "code",
   "execution_count": 3,
   "id": "67547d1a",
   "metadata": {},
   "outputs": [
    {
     "data": {
      "text/html": [
       "<div>\n",
       "<style scoped>\n",
       "    .dataframe tbody tr th:only-of-type {\n",
       "        vertical-align: middle;\n",
       "    }\n",
       "\n",
       "    .dataframe tbody tr th {\n",
       "        vertical-align: top;\n",
       "    }\n",
       "\n",
       "    .dataframe thead th {\n",
       "        text-align: right;\n",
       "    }\n",
       "</style>\n",
       "<table border=\"1\" class=\"dataframe\">\n",
       "  <thead>\n",
       "    <tr style=\"text-align: right;\">\n",
       "      <th></th>\n",
       "      <th>image</th>\n",
       "      <th>PetID</th>\n",
       "      <th>label</th>\n",
       "    </tr>\n",
       "  </thead>\n",
       "  <tbody>\n",
       "    <tr>\n",
       "      <th>0</th>\n",
       "      <td>/home/ubuntu/petfinder_data/train_images/015da...</td>\n",
       "      <td>015da9e87</td>\n",
       "      <td>0</td>\n",
       "    </tr>\n",
       "    <tr>\n",
       "      <th>1</th>\n",
       "      <td>/home/ubuntu/petfinder_data/train_images/02260...</td>\n",
       "      <td>022606901</td>\n",
       "      <td>0</td>\n",
       "    </tr>\n",
       "    <tr>\n",
       "      <th>2</th>\n",
       "      <td>/home/ubuntu/petfinder_data/train_images/02f89...</td>\n",
       "      <td>02f89bdcb</td>\n",
       "      <td>0</td>\n",
       "    </tr>\n",
       "    <tr>\n",
       "      <th>3</th>\n",
       "      <td>/home/ubuntu/petfinder_data/train_images/03f21...</td>\n",
       "      <td>03f217352</td>\n",
       "      <td>0</td>\n",
       "    </tr>\n",
       "    <tr>\n",
       "      <th>4</th>\n",
       "      <td>/home/ubuntu/petfinder_data/train_images/040a9...</td>\n",
       "      <td>040a9a6f9</td>\n",
       "      <td>0</td>\n",
       "    </tr>\n",
       "  </tbody>\n",
       "</table>\n",
       "</div>"
      ],
      "text/plain": [
       "                                               image      PetID  label\n",
       "0  /home/ubuntu/petfinder_data/train_images/015da...  015da9e87      0\n",
       "1  /home/ubuntu/petfinder_data/train_images/02260...  022606901      0\n",
       "2  /home/ubuntu/petfinder_data/train_images/02f89...  02f89bdcb      0\n",
       "3  /home/ubuntu/petfinder_data/train_images/03f21...  03f217352      0\n",
       "4  /home/ubuntu/petfinder_data/train_images/040a9...  040a9a6f9      0"
      ]
     },
     "execution_count": 3,
     "metadata": {},
     "output_type": "execute_result"
    }
   ],
   "source": [
    "df = ImageDataset.from_csv(csv_file, root='/home/ubuntu')\n",
    "df.head()"
   ]
  },
  {
   "cell_type": "code",
   "execution_count": 6,
   "id": "e65b2e41",
   "metadata": {},
   "outputs": [
    {
     "name": "stderr",
     "output_type": "stream",
     "text": [
      "=============================================================================\n",
      "WARNING: ObjectDetector is deprecated as of v0.4.0 and may contain various bugs and issues!\n",
      "In a future release ObjectDetector may be entirely reworked to use Torch as a backend.\n",
      "This future change will likely be API breaking.Users should ensure they update their code that depends on ObjectDetector when upgrading to future AutoGluon releases.\n",
      "For more information, refer to ObjectDetector refactor GitHub issue: https://github.com/awslabs/autogluon/issues/1559\n",
      "=============================================================================\n",
      "\n",
      "The number of requested GPUs is greater than the number of available GPUs.Reduce the number to 1\n",
      "Randomly split train_data into train[150]/validation[20] splits.\n",
      "Starting HPO experiments\n"
     ]
    },
    {
     "data": {
      "application/vnd.jupyter.widget-view+json": {
       "model_id": "c6d8b4a5fe384458b5355e94a618c9d0",
       "version_major": 2,
       "version_minor": 0
      },
      "text/plain": [
       "  0%|          | 0/2 [00:00<?, ?it/s]"
      ]
     },
     "metadata": {},
     "output_type": "display_data"
    },
    {
     "name": "stderr",
     "output_type": "stream",
     "text": [
      "modified configs(<old> != <new>): {\n",
      "root.dataset         voc_tiny != auto\n",
      "root.valid.batch_size 16 != 8\n",
      "root.ssd.base_network vgg16_atrous != resnet50_v1\n",
      "root.ssd.data_shape  300 != 512\n",
      "root.gpus            (0, 1, 2, 3) != (0,)\n",
      "root.num_workers     4 != 12\n",
      "root.train.early_stop_patience -1 != 10\n",
      "root.train.seed      233 != 125\n",
      "root.train.early_stop_baseline 0.0 != -inf\n",
      "root.train.early_stop_max_value 1.0 != inf\n",
      "root.train.epochs    20 != 5\n",
      "root.train.batch_size 16 != 8\n",
      "root.dataset_root    ~/.mxnet/datasets/ != auto\n",
      "}\n",
      "Saved config to /home/kate/PycharmProjects/object_detection/4b92a8f8/.trial_0/config.yaml\n",
      "[12:47:40] ../src/imperative/./imperative_utils.h:93: GPU support is disabled. Compile MXNet with USE_CUDA=1 to enable GPU support.\n",
      "No gpu detected, fallback to cpu. You can ignore this warning if this is intended.\n",
      "Using transfer learning from ssd_512_resnet50_v1_coco, the other network parameters are ignored.\n",
      "Start training from [Epoch 0]\n",
      "[Epoch 0] Training cost: 77.121650, CrossEntropy=3.573032, SmoothL1=0.991513\n",
      "[Epoch 0] Validation: \n",
      "bus=nan\n",
      "motorbike=0.9445992603887342\n",
      "chair=nan\n",
      "pottedplant=0.0\n",
      "car=0.9480519480519483\n",
      "cow=nan\n",
      "bicycle=nan\n",
      "dog=nan\n",
      "boat=nan\n",
      "person=0.7870806548161257\n",
      "mAP=0.669932965814202\n",
      "[Epoch 0] Current best map: 0.669933 vs previous 0.000000, saved to /home/kate/PycharmProjects/object_detection/4b92a8f8/.trial_0/best_checkpoint.pkl\n",
      "[Epoch 1] Training cost: 83.496182, CrossEntropy=2.636109, SmoothL1=1.179721\n",
      "[Epoch 1] Validation: \n",
      "bus=nan\n",
      "motorbike=0.8951203208556151\n",
      "chair=nan\n",
      "pottedplant=0.0\n",
      "car=0.8171122994652408\n",
      "cow=nan\n",
      "bicycle=nan\n",
      "dog=nan\n",
      "boat=nan\n",
      "person=0.7501378476988233\n",
      "mAP=0.6155926170049197\n",
      "[Epoch 2] Training cost: 83.765010, CrossEntropy=2.298122, SmoothL1=1.011122\n",
      "[Epoch 2] Validation: \n",
      "bus=nan\n",
      "motorbike=0.8166708560256947\n",
      "chair=nan\n",
      "pottedplant=0.0\n",
      "car=0.3632710000996447\n",
      "cow=nan\n",
      "bicycle=nan\n",
      "dog=nan\n",
      "boat=nan\n",
      "person=0.8357023846714569\n",
      "mAP=0.5039110601991991\n",
      "[Epoch 3] Training cost: 76.879545, CrossEntropy=2.423468, SmoothL1=1.104070\n",
      "[Epoch 3] Validation: \n",
      "bus=nan\n",
      "motorbike=0.8765151515151517\n",
      "chair=nan\n",
      "pottedplant=0.0\n",
      "car=0.659090909090909\n",
      "cow=nan\n",
      "bicycle=nan\n",
      "dog=nan\n",
      "boat=nan\n",
      "person=0.6593452767925128\n",
      "mAP=0.5487378343496434\n",
      "[Epoch 4] Training cost: 71.901087, CrossEntropy=2.315649, SmoothL1=1.177811\n",
      "[Epoch 4] Validation: \n",
      "bus=nan\n",
      "motorbike=0.875757575757576\n",
      "chair=nan\n",
      "pottedplant=0.0\n",
      "car=0.8545454545454547\n",
      "cow=nan\n",
      "bicycle=nan\n",
      "dog=nan\n",
      "boat=nan\n",
      "person=0.7012292520313911\n",
      "mAP=0.6078830705836055\n",
      "Applying the state from the best checkpoint...\n",
      "[12:55:08] ../src/imperative/./imperative_utils.h:93: GPU support is disabled. Compile MXNet with USE_CUDA=1 to enable GPU support.\n"
     ]
    },
    {
     "name": "stdout",
     "output_type": "stream",
     "text": [
      "Downloading /home/kate/.mxnet/models/resnet50_v1-cc729d95.zip from https://apache-mxnet.s3-accelerate.dualstack.amazonaws.com/gluon/models/resnet50_v1-cc729d95.zip...\n"
     ]
    },
    {
     "name": "stderr",
     "output_type": "stream",
     "text": [
      "\n",
      "  0%|                                                 | 0/57421 [00:00<?, ?KB/s]\u001b[A\n",
      "  0%|                                       | 33/57421 [00:00<03:59, 239.52KB/s]\u001b[A\n",
      "  0%|                                      | 102/57421 [00:00<02:44, 349.29KB/s]\u001b[A\n",
      "  0%|▏                                     | 237/57421 [00:00<01:40, 566.79KB/s]\u001b[A\n",
      "  1%|▎                                     | 508/57421 [00:00<00:57, 993.79KB/s]\u001b[A\n",
      "  2%|▋                                   | 1065/57421 [00:00<00:30, 1848.82KB/s]\u001b[A\n",
      "  4%|█▎                                  | 2185/57421 [00:00<00:15, 3512.28KB/s]\u001b[A\n",
      "  5%|█▉                                  | 3146/57421 [00:01<00:11, 4894.63KB/s]\u001b[A\n",
      "  8%|██▋                                 | 4313/57421 [00:01<00:08, 6472.14KB/s]\u001b[A\n",
      " 10%|███▌                                | 5689/57421 [00:01<00:06, 8316.94KB/s]\u001b[A\n",
      " 12%|████▏                               | 6614/57421 [00:01<00:07, 7076.97KB/s]\u001b[A\n",
      " 14%|█████                               | 8057/57421 [00:01<00:05, 8827.61KB/s]\u001b[A\n",
      " 16%|█████▋                              | 9051/57421 [00:01<00:05, 9010.37KB/s]\u001b[A\n",
      " 18%|██████▎                            | 10345/57421 [00:01<00:04, 9709.57KB/s]\u001b[A\n",
      " 20%|██████▉                           | 11689/57421 [00:01<00:04, 10705.73KB/s]\u001b[A\n",
      " 22%|███████▌                          | 12841/57421 [00:01<00:04, 10910.29KB/s]\u001b[A\n",
      " 24%|████████▎                         | 13993/57421 [00:02<00:03, 11064.53KB/s]\u001b[A\n",
      " 26%|████████▉                         | 15145/57421 [00:02<00:03, 11172.81KB/s]\u001b[A\n",
      " 28%|█████████▋                        | 16283/57421 [00:02<00:03, 10709.80KB/s]\u001b[A\n",
      " 31%|██████████▍                       | 17545/57421 [00:02<00:03, 10809.40KB/s]\u001b[A\n",
      " 33%|███████████▏                      | 18857/57421 [00:02<00:03, 10995.66KB/s]\u001b[A\n",
      " 35%|███████████▉                      | 20089/57421 [00:02<00:03, 11145.04KB/s]\u001b[A\n",
      " 37%|████████████▋                     | 21369/57421 [00:02<00:03, 11178.24KB/s]\u001b[A\n",
      " 40%|█████████████▍                    | 22713/57421 [00:02<00:03, 11268.08KB/s]\u001b[A\n",
      " 42%|██████████████▌                    | 23843/57421 [00:03<00:03, 9912.83KB/s]\u001b[A\n",
      " 43%|██████████████▊                   | 24921/57421 [00:03<00:03, 10103.09KB/s]\u001b[A\n",
      " 45%|███████████████▊                   | 25952/57421 [00:03<00:03, 9811.75KB/s]\u001b[A\n",
      " 47%|████████████████▍                  | 26947/57421 [00:03<00:03, 9483.80KB/s]\u001b[A\n",
      " 49%|█████████████████                  | 27905/57421 [00:03<00:03, 9250.08KB/s]\u001b[A\n",
      " 50%|█████████████████▌                 | 28836/57421 [00:03<00:03, 9102.54KB/s]\u001b[A\n",
      " 52%|██████████████████▏                | 29940/57421 [00:03<00:02, 9638.99KB/s]\u001b[A\n",
      " 54%|██████████████████▍               | 31081/57421 [00:03<00:02, 10134.49KB/s]\u001b[A\n",
      " 56%|███████████████████               | 32233/57421 [00:03<00:02, 10518.57KB/s]\u001b[A\n",
      " 58%|███████████████████▊              | 33385/57421 [00:03<00:02, 10791.09KB/s]\u001b[A\n",
      " 60%|████████████████████▍             | 34470/57421 [00:04<00:02, 10585.86KB/s]\u001b[A\n",
      " 62%|█████████████████████             | 35561/57421 [00:04<00:02, 10493.21KB/s]\u001b[A\n",
      " 64%|██████████████████████▎            | 36614/57421 [00:04<00:02, 9940.87KB/s]\u001b[A\n",
      " 66%|██████████████████████▉            | 37625/57421 [00:04<00:02, 9850.88KB/s]\u001b[A\n",
      " 68%|███████████████████████           | 38953/57421 [00:04<00:01, 10788.76KB/s]\u001b[A\n",
      " 70%|███████████████████████▋          | 40105/57421 [00:04<00:01, 10980.66KB/s]\u001b[A\n",
      " 72%|████████████████████████▍         | 41210/57421 [00:04<00:01, 10996.30KB/s]\u001b[A\n",
      " 74%|█████████████████████████         | 42314/57421 [00:04<00:01, 10763.67KB/s]\u001b[A\n",
      " 76%|█████████████████████████▊        | 43529/57421 [00:04<00:01, 10844.21KB/s]\u001b[A\n",
      " 78%|██████████████████████████▌       | 44809/57421 [00:05<00:01, 11070.67KB/s]\u001b[A\n",
      " 80%|███████████████████████████▏      | 45961/57421 [00:05<00:01, 11173.78KB/s]\u001b[A\n",
      " 82%|███████████████████████████▉      | 47273/57421 [00:05<00:00, 11224.97KB/s]\u001b[A\n",
      " 85%|████████████████████████████▋     | 48521/57421 [00:05<00:00, 11247.15KB/s]\u001b[A\n",
      " 87%|█████████████████████████████▌    | 49881/57421 [00:05<00:00, 11879.80KB/s]\u001b[A\n",
      " 89%|██████████████████████████████▏   | 51073/57421 [00:05<00:00, 11765.04KB/s]\u001b[A\n",
      " 91%|██████████████████████████████▉   | 52252/57421 [00:05<00:00, 11666.16KB/s]\u001b[A\n",
      " 93%|████████████████████████████████▌  | 53421/57421 [00:05<00:00, 9683.23KB/s]\u001b[A\n",
      " 95%|████████████████████████████████▎ | 54617/57421 [00:05<00:00, 10262.84KB/s]\u001b[A\n",
      " 97%|█████████████████████████████████ | 55769/57421 [00:06<00:00, 10581.64KB/s]\u001b[A\n",
      "100%|███████████████████████████████████| 57421/57421 [00:06<00:00, 9290.84KB/s]\u001b[A\n",
      "[12:55:23] ../src/imperative/./imperative_utils.h:93: GPU support is disabled. Compile MXNet with USE_CUDA=1 to enable GPU support.\n",
      "Saving Training Curve in checkpoint/plot_training_curves.png\n"
     ]
    },
    {
     "data": {
      "image/png": "[encoded data removed]",
      "text/plain": [
       "<Figure size 432x288 with 1 Axes>"
      ]
     },
     "metadata": {
      "needs_background": "light"
     },
     "output_type": "display_data"
    },
    {
     "name": "stderr",
     "output_type": "stream",
     "text": [
      "Finished, total runtime is 469.38 s\n",
      "{ 'best_config': { 'dataset': 'auto',\n",
      "                   'dataset_root': 'auto',\n",
      "                   'estimator': <class 'gluoncv.auto.estimators.ssd.ssd.SSDEstimator'>,\n",
      "                   'gpus': [0],\n",
      "                   'horovod': False,\n",
      "                   'num_workers': 12,\n",
      "                   'resume': '',\n",
      "                   'save_interval': 1,\n",
      "                   'ssd': { 'amp': False,\n",
      "                            'base_network': 'resnet50_v1',\n",
      "                            'data_shape': 512,\n",
      "                            'filters': None,\n",
      "                            'nms_thresh': 0.45,\n",
      "                            'nms_topk': 400,\n",
      "                            'ratios': ( [1, 2, 0.5],\n",
      "                                        [1, 2, 0.5, 3, 0.3333333333333333],\n",
      "                                        [1, 2, 0.5, 3, 0.3333333333333333],\n",
      "                                        [1, 2, 0.5, 3, 0.3333333333333333],\n",
      "                                        [1, 2, 0.5],\n",
      "                                        [1, 2, 0.5]),\n",
      "                            'sizes': (30, 60, 111, 162, 213, 264, 315),\n",
      "                            'steps': (8, 16, 32, 64, 100, 300),\n",
      "                            'syncbn': False,\n",
      "                            'transfer': 'ssd_512_resnet50_v1_coco'},\n",
      "                   'train': { 'batch_size': 8,\n",
      "                              'dali': False,\n",
      "                              'early_stop_baseline': -inf,\n",
      "                              'early_stop_max_value': inf,\n",
      "                              'early_stop_min_delta': 0.001,\n",
      "                              'early_stop_patience': 10,\n",
      "                              'epochs': 5,\n",
      "                              'log_interval': 100,\n",
      "                              'lr': 0.001,\n",
      "                              'lr_decay': 0.1,\n",
      "                              'lr_decay_epoch': (160, 200),\n",
      "                              'momentum': 0.9,\n",
      "                              'seed': 125,\n",
      "                              'start_epoch': 0,\n",
      "                              'wd': 0.0005},\n",
      "                   'valid': { 'batch_size': 8,\n",
      "                              'iou_thresh': 0.5,\n",
      "                              'metric': 'voc07',\n",
      "                              'val_interval': 1}},\n",
      "  'total_time': 468.33489513397217,\n",
      "  'train_map': 0.7853863626013918,\n",
      "  'valid_map': 0.669932965814202}\n",
      "[12:55:30] ../src/imperative/./imperative_utils.h:93: GPU support is disabled. Compile MXNet with USE_CUDA=1 to enable GPU support.\n"
     ]
    },
    {
     "data": {
      "text/plain": [
       "<autogluon.vision.detector.detector.ObjectDetector at 0x7fc731c301f0>"
      ]
     },
     "execution_count": 6,
     "metadata": {},
     "output_type": "execute_result"
    }
   ],
   "source": [
    "time_limit = 60*30  # at most 0.5 hour\n",
    "detector = ObjectDetector()\n",
    "hyperparameters = {'epochs': 5, 'batch_size': 8}\n",
    "hyperparameter_tune_kwargs={'num_trials': 2}\n",
    "detector.fit(dataset_train, time_limit=time_limit, hyperparameters=hyperparameters, hyperparameter_tune_kwargs=hyperparameter_tune_kwargs)\n"
   ]
  },
  {
   "cell_type": "code",
   "execution_count": 7,
   "id": "a82211ce",
   "metadata": {},
   "outputs": [
    {
     "name": "stdout",
     "output_type": "stream",
     "text": [
      "tiny_motorbike/\n",
      "├── Annotations/\n",
      "├── ImageSets/\n",
      "└── JPEGImages/\n",
      "mAP on test dataset: 0.09646369712159186\n"
     ]
    }
   ],
   "source": [
    "dataset_test = ObjectDetector.Dataset.from_voc(url, splits='test')\n",
    "\n",
    "test_map = detector.evaluate(dataset_test)\n",
    "print(\"mAP on test dataset: {}\".format(test_map[1][-1]))"
   ]
  },
  {
   "cell_type": "code",
   "execution_count": 8,
   "id": "35f346b9",
   "metadata": {},
   "outputs": [
    {
     "name": "stdout",
     "output_type": "stream",
     "text": [
      "   predict_class  predict_score  \\\n",
      "0         person       0.992640   \n",
      "1      motorbike       0.897463   \n",
      "2      motorbike       0.344450   \n",
      "3    pottedplant       0.159241   \n",
      "4            car       0.149456   \n",
      "..           ...            ...   \n",
      "73           car       0.026023   \n",
      "74        person       0.025850   \n",
      "75        person       0.024818   \n",
      "76        person       0.024726   \n",
      "77        person       0.024694   \n",
      "\n",
      "                                         predict_rois  \n",
      "0   {'xmin': 0.4028904438018799, 'ymin': 0.2766634...  \n",
      "1   {'xmin': 0.3267401158809662, 'ymin': 0.4470330...  \n",
      "2   {'xmin': 0.3830264210700989, 'ymin': 0.3369398...  \n",
      "3   {'xmin': 0.32188543677330017, 'ymin': 0.460177...  \n",
      "4   {'xmin': 0.0, 'ymin': 0.6232168674468994, 'xma...  \n",
      "..                                                ...  \n",
      "73  {'xmin': 0.3173879384994507, 'ymin': 0.4602524...  \n",
      "74  {'xmin': 0.7014878392219543, 'ymin': 0.7525864...  \n",
      "75  {'xmin': 0.909260630607605, 'ymin': 0.75465017...  \n",
      "76  {'xmin': 0.0032322604674845934, 'ymin': 0.3340...  \n",
      "77  {'xmin': 0.9986690282821655, 'ymin': 0.4242970...  \n",
      "\n",
      "[78 rows x 3 columns]\n"
     ]
    }
   ],
   "source": [
    "image_path = dataset_test.iloc[0]['image']\n",
    "result = detector.predict(image_path)\n",
    "print(result)"
   ]
  },
  {
   "cell_type": "code",
   "execution_count": 9,
   "id": "5a1ca3c1",
   "metadata": {},
   "outputs": [
    {
     "data": {
      "text/html": [
       "<div>\n",
       "<style scoped>\n",
       "    .dataframe tbody tr th:only-of-type {\n",
       "        vertical-align: middle;\n",
       "    }\n",
       "\n",
       "    .dataframe tbody tr th {\n",
       "        vertical-align: top;\n",
       "    }\n",
       "\n",
       "    .dataframe thead th {\n",
       "        text-align: right;\n",
       "    }\n",
       "</style>\n",
       "<table border=\"1\" class=\"dataframe\">\n",
       "  <thead>\n",
       "    <tr style=\"text-align: right;\">\n",
       "      <th></th>\n",
       "      <th>image</th>\n",
       "      <th>rois</th>\n",
       "      <th>image_attr</th>\n",
       "    </tr>\n",
       "  </thead>\n",
       "  <tbody>\n",
       "    <tr>\n",
       "      <th>0</th>\n",
       "      <td>/home/kate/.gluoncv/datasets/tiny_motorbike/ti...</td>\n",
       "      <td>[{'class': 'motorbike', 'xmin': 0.702, 'ymin':...</td>\n",
       "      <td>{'width': 500.0, 'height': 375.0}</td>\n",
       "    </tr>\n",
       "    <tr>\n",
       "      <th>1</th>\n",
       "      <td>/home/kate/.gluoncv/datasets/tiny_motorbike/ti...</td>\n",
       "      <td>[{'class': 'motorbike', 'xmin': 0.117117117117...</td>\n",
       "      <td>{'width': 333.0, 'height': 500.0}</td>\n",
       "    </tr>\n",
       "    <tr>\n",
       "      <th>2</th>\n",
       "      <td>/home/kate/.gluoncv/datasets/tiny_motorbike/ti...</td>\n",
       "      <td>[{'class': 'person', 'xmin': 0.102, 'ymin': 0....</td>\n",
       "      <td>{'width': 500.0, 'height': 432.0}</td>\n",
       "    </tr>\n",
       "    <tr>\n",
       "      <th>3</th>\n",
       "      <td>/home/kate/.gluoncv/datasets/tiny_motorbike/ti...</td>\n",
       "      <td>[{'class': 'motorbike', 'xmin': 0.226, 'ymin':...</td>\n",
       "      <td>{'width': 500.0, 'height': 375.0}</td>\n",
       "    </tr>\n",
       "    <tr>\n",
       "      <th>4</th>\n",
       "      <td>/home/kate/.gluoncv/datasets/tiny_motorbike/ti...</td>\n",
       "      <td>[{'class': 'motorbike', 'xmin': 0.357357357357...</td>\n",
       "      <td>{'width': 333.0, 'height': 500.0}</td>\n",
       "    </tr>\n",
       "    <tr>\n",
       "      <th>...</th>\n",
       "      <td>...</td>\n",
       "      <td>...</td>\n",
       "      <td>...</td>\n",
       "    </tr>\n",
       "    <tr>\n",
       "      <th>165</th>\n",
       "      <td>/home/kate/.gluoncv/datasets/tiny_motorbike/ti...</td>\n",
       "      <td>[{'class': 'motorbike', 'xmin': 0.0, 'ymin': 0...</td>\n",
       "      <td>{'width': 500.0, 'height': 333.0}</td>\n",
       "    </tr>\n",
       "    <tr>\n",
       "      <th>166</th>\n",
       "      <td>/home/kate/.gluoncv/datasets/tiny_motorbike/ti...</td>\n",
       "      <td>[{'class': 'person', 'xmin': 0.408, 'ymin': 0....</td>\n",
       "      <td>{'width': 500.0, 'height': 375.0}</td>\n",
       "    </tr>\n",
       "    <tr>\n",
       "      <th>167</th>\n",
       "      <td>/home/kate/.gluoncv/datasets/tiny_motorbike/ti...</td>\n",
       "      <td>[{'class': 'person', 'xmin': 0.382, 'ymin': 0....</td>\n",
       "      <td>{'width': 500.0, 'height': 375.0}</td>\n",
       "    </tr>\n",
       "    <tr>\n",
       "      <th>168</th>\n",
       "      <td>/home/kate/.gluoncv/datasets/tiny_motorbike/ti...</td>\n",
       "      <td>[{'class': 'motorbike', 'xmin': 0.272, 'ymin':...</td>\n",
       "      <td>{'width': 500.0, 'height': 375.0}</td>\n",
       "    </tr>\n",
       "    <tr>\n",
       "      <th>169</th>\n",
       "      <td>/home/kate/.gluoncv/datasets/tiny_motorbike/ti...</td>\n",
       "      <td>[{'class': 'motorbike', 'xmin': 0.172, 'ymin':...</td>\n",
       "      <td>{'width': 500.0, 'height': 331.0}</td>\n",
       "    </tr>\n",
       "  </tbody>\n",
       "</table>\n",
       "<p>170 rows × 3 columns</p>\n",
       "</div>"
      ],
      "text/plain": [
       "                                                 image  \\\n",
       "0    /home/kate/.gluoncv/datasets/tiny_motorbike/ti...   \n",
       "1    /home/kate/.gluoncv/datasets/tiny_motorbike/ti...   \n",
       "2    /home/kate/.gluoncv/datasets/tiny_motorbike/ti...   \n",
       "3    /home/kate/.gluoncv/datasets/tiny_motorbike/ti...   \n",
       "4    /home/kate/.gluoncv/datasets/tiny_motorbike/ti...   \n",
       "..                                                 ...   \n",
       "165  /home/kate/.gluoncv/datasets/tiny_motorbike/ti...   \n",
       "166  /home/kate/.gluoncv/datasets/tiny_motorbike/ti...   \n",
       "167  /home/kate/.gluoncv/datasets/tiny_motorbike/ti...   \n",
       "168  /home/kate/.gluoncv/datasets/tiny_motorbike/ti...   \n",
       "169  /home/kate/.gluoncv/datasets/tiny_motorbike/ti...   \n",
       "\n",
       "                                                  rois  \\\n",
       "0    [{'class': 'motorbike', 'xmin': 0.702, 'ymin':...   \n",
       "1    [{'class': 'motorbike', 'xmin': 0.117117117117...   \n",
       "2    [{'class': 'person', 'xmin': 0.102, 'ymin': 0....   \n",
       "3    [{'class': 'motorbike', 'xmin': 0.226, 'ymin':...   \n",
       "4    [{'class': 'motorbike', 'xmin': 0.357357357357...   \n",
       "..                                                 ...   \n",
       "165  [{'class': 'motorbike', 'xmin': 0.0, 'ymin': 0...   \n",
       "166  [{'class': 'person', 'xmin': 0.408, 'ymin': 0....   \n",
       "167  [{'class': 'person', 'xmin': 0.382, 'ymin': 0....   \n",
       "168  [{'class': 'motorbike', 'xmin': 0.272, 'ymin':...   \n",
       "169  [{'class': 'motorbike', 'xmin': 0.172, 'ymin':...   \n",
       "\n",
       "                            image_attr  \n",
       "0    {'width': 500.0, 'height': 375.0}  \n",
       "1    {'width': 333.0, 'height': 500.0}  \n",
       "2    {'width': 500.0, 'height': 432.0}  \n",
       "3    {'width': 500.0, 'height': 375.0}  \n",
       "4    {'width': 333.0, 'height': 500.0}  \n",
       "..                                 ...  \n",
       "165  {'width': 500.0, 'height': 333.0}  \n",
       "166  {'width': 500.0, 'height': 375.0}  \n",
       "167  {'width': 500.0, 'height': 375.0}  \n",
       "168  {'width': 500.0, 'height': 375.0}  \n",
       "169  {'width': 500.0, 'height': 331.0}  \n",
       "\n",
       "[170 rows x 3 columns]"
      ]
     },
     "execution_count": 9,
     "metadata": {},
     "output_type": "execute_result"
    }
   ],
   "source": [
    "dataset_train"
   ]
  },
  {
   "cell_type": "code",
   "execution_count": 12,
   "id": "cb5bcc87",
   "metadata": {},
   "outputs": [
    {
     "data": {
      "text/plain": [
       "[{'class': 'motorbike',\n",
       "  'xmin': 0.702,\n",
       "  'ymin': 0.36533333333333334,\n",
       "  'xmax': 0.998,\n",
       "  'ymax': 0.9973333333333333,\n",
       "  'difficult': 0},\n",
       " {'class': 'motorbike',\n",
       "  'xmin': 0.208,\n",
       "  'ymin': 0.0,\n",
       "  'xmax': 0.852,\n",
       "  'ymax': 0.6506666666666666,\n",
       "  'difficult': 0},\n",
       " {'class': 'person',\n",
       "  'xmin': 0.828,\n",
       "  'ymin': 0.16,\n",
       "  'xmax': 0.928,\n",
       "  'ymax': 0.5173333333333333,\n",
       "  'difficult': 1}]"
      ]
     },
     "execution_count": 12,
     "metadata": {},
     "output_type": "execute_result"
    }
   ],
   "source": [
    "list(dataset_train.rois[0])"
   ]
  },
  {
   "cell_type": "code",
   "execution_count": 13,
   "id": "5ec89780",
   "metadata": {},
   "outputs": [],
   "source": [
    "dataset_train.to_csv('example.csv')"
   ]
  },
  {
   "cell_type": "code",
   "execution_count": null,
   "id": "55bab2c3",
   "metadata": {},
   "outputs": [],
   "source": []
  }
 ],
 "metadata": {
  "kernelspec": {
   "display_name": "Python 3 (ipykernel)",
   "language": "python",
   "name": "python3"
  },
  "language_info": {
   "codemirror_mode": {
    "name": "ipython",
    "version": 3
   },
   "file_extension": ".py",
   "mimetype": "text/x-python",
   "name": "python",
   "nbconvert_exporter": "python",
   "pygments_lexer": "ipython3",
   "version": "3.8.10"
  }
 },
 "nbformat": 4,
 "nbformat_minor": 5
}
