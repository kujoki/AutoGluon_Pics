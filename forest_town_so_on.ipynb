{
 "cells": [
  {
   "cell_type": "code",
   "execution_count": 1,
   "id": "8b1337ce",
   "metadata": {},
   "outputs": [
    {
     "name": "stderr",
     "output_type": "stream",
     "text": [
      "/home/kate/.local/lib/python3.8/site-packages/gluoncv/__init__.py:40: UserWarning: Both `mxnet==1.9.1` and `torch==1.10.2+cu102` are installed. You might encounter increased GPU memory footprint if both framework are used at the same time.\n",
      "  warnings.warn(f'Both `mxnet=={mx.__version__}` and `torch=={torch.__version__}` are installed. '\n"
     ]
    }
   ],
   "source": [
    "import time\n",
    "from matplotlib import pyplot as plt\n",
    "import numpy as np\n",
    "import mxnet as mx\n",
    "from mxnet import autograd, gluon\n",
    "import gluoncv as gcv\n",
    "from gluoncv.utils import download, viz"
   ]
  },
  {
   "cell_type": "code",
   "execution_count": 2,
   "id": "acc24903",
   "metadata": {},
   "outputs": [],
   "source": [
    "import os"
   ]
  },
  {
   "cell_type": "code",
   "execution_count": 3,
   "id": "fe3fe4a8",
   "metadata": {},
   "outputs": [],
   "source": [
    "base_path = '/home/kate/PycharmProjects/image_prediction/images/'\n",
    "#test_dir = '../input/intel-image-classification/seg_test/seg_test/'"
   ]
  },
  {
   "cell_type": "code",
   "execution_count": 4,
   "id": "94d43c65",
   "metadata": {},
   "outputs": [],
   "source": [
    "folders = os.listdir(base_path)"
   ]
  },
  {
   "cell_type": "code",
   "execution_count": 5,
   "id": "77f3f891",
   "metadata": {},
   "outputs": [
    {
     "name": "stdout",
     "output_type": "stream",
     "text": [
      "['seg_train', 'seg_test', 'seg_pred']\n"
     ]
    }
   ],
   "source": [
    "print(folders)"
   ]
  },
  {
   "cell_type": "code",
   "execution_count": 6,
   "id": "9b54adae",
   "metadata": {},
   "outputs": [
    {
     "data": {
      "text/plain": [
       "'/home/kate/PycharmProjects/image_prediction/images/seg_train/'"
      ]
     },
     "execution_count": 6,
     "metadata": {},
     "output_type": "execute_result"
    }
   ],
   "source": [
    "base_path+folders[0]+'/'"
   ]
  },
  {
   "cell_type": "code",
   "execution_count": 7,
   "id": "c8a61dd2",
   "metadata": {},
   "outputs": [],
   "source": [
    "train_folders = os.listdir(os.path.join(base_path,folders[0]))"
   ]
  },
  {
   "cell_type": "code",
   "execution_count": 8,
   "id": "b6e21ea2",
   "metadata": {},
   "outputs": [
    {
     "name": "stdout",
     "output_type": "stream",
     "text": [
      "train_folders: ['sea', 'glacier', 'forest', 'mountain', 'buildings', 'street']\n"
     ]
    }
   ],
   "source": [
    "print(f'train_folders: {train_folders}')"
   ]
  },
  {
   "cell_type": "code",
   "execution_count": 9,
   "id": "c29f115a",
   "metadata": {},
   "outputs": [
    {
     "name": "stdout",
     "output_type": "stream",
     "text": [
      "----Train Data Distribution-----\n",
      "Folder Name : No. of Images\n",
      "sea         : 2274\n",
      "glacier     : 2404\n",
      "forest      : 2271\n",
      "mountain    : 2512\n",
      "buildings   : 2191\n",
      "street      : 2382\n"
     ]
    }
   ],
   "source": [
    "print('----Train Data Distribution-----')\n",
    "print(f'Folder Name : No. of Images')\n",
    "for folder in train_folders:\n",
    "    print(f'{folder:11} : {len(os.listdir(os.path.join(base_path,folders[0],folder)))}')"
   ]
  },
  {
   "cell_type": "code",
   "execution_count": 10,
   "id": "b7ed9c40",
   "metadata": {},
   "outputs": [
    {
     "name": "stdout",
     "output_type": "stream",
     "text": [
      "val_folders: ['sea', 'glacier', 'forest', 'mountain', 'buildings', 'street']\n"
     ]
    }
   ],
   "source": [
    "val_folders = os.listdir(os.path.join(base_path,folders[1]))\n",
    "print(f'val_folders: {val_folders}')"
   ]
  },
  {
   "cell_type": "code",
   "execution_count": 11,
   "id": "47f9d010",
   "metadata": {},
   "outputs": [
    {
     "name": "stdout",
     "output_type": "stream",
     "text": [
      "----Val Data Distribution-----\n",
      "Folder Name : No. of Images\n",
      "sea         : 510\n",
      "glacier     : 553\n",
      "forest      : 474\n",
      "mountain    : 525\n",
      "buildings   : 437\n",
      "street      : 501\n"
     ]
    }
   ],
   "source": [
    "print('----Val Data Distribution-----')\n",
    "print(f'Folder Name : No. of Images')\n",
    "for folder in val_folders:\n",
    "    print(f'{folder:11} : {len(os.listdir(os.path.join(base_path,folders[1],folder)))}')"
   ]
  },
  {
   "cell_type": "code",
   "execution_count": 12,
   "id": "f3d7737f",
   "metadata": {},
   "outputs": [
    {
     "name": "stdout",
     "output_type": "stream",
     "text": [
      "test_images: 7301\n",
      "First ten Images\n",
      "['21326.jpg', '5803.jpg', '12901.jpg', '7943.jpg', '677.jpg', '22049.jpg', '12033.jpg', '10434.jpg', '5229.jpg', '19065.jpg']\n"
     ]
    }
   ],
   "source": [
    "test_images = os.listdir(os.path.join(base_path,folders[2]))\n",
    "print(f'test_images: {len(test_images)}')\n",
    "print('First ten Images')\n",
    "print(test_images[:10])"
   ]
  },
  {
   "cell_type": "code",
   "execution_count": 13,
   "id": "64209c4b",
   "metadata": {},
   "outputs": [],
   "source": [
    "import pandas as pd"
   ]
  },
  {
   "cell_type": "code",
   "execution_count": 14,
   "id": "3280f23b",
   "metadata": {},
   "outputs": [],
   "source": [
    "df_train = pd.DataFrame(columns =['Names'])"
   ]
  },
  {
   "cell_type": "code",
   "execution_count": 15,
   "id": "56cdead5",
   "metadata": {},
   "outputs": [
    {
     "data": {
      "text/html": [
       "<div>\n",
       "<style scoped>\n",
       "    .dataframe tbody tr th:only-of-type {\n",
       "        vertical-align: middle;\n",
       "    }\n",
       "\n",
       "    .dataframe tbody tr th {\n",
       "        vertical-align: top;\n",
       "    }\n",
       "\n",
       "    .dataframe thead th {\n",
       "        text-align: right;\n",
       "    }\n",
       "</style>\n",
       "<table border=\"1\" class=\"dataframe\">\n",
       "  <thead>\n",
       "    <tr style=\"text-align: right;\">\n",
       "      <th></th>\n",
       "      <th>Names</th>\n",
       "    </tr>\n",
       "  </thead>\n",
       "  <tbody>\n",
       "  </tbody>\n",
       "</table>\n",
       "</div>"
      ],
      "text/plain": [
       "Empty DataFrame\n",
       "Columns: [Names]\n",
       "Index: []"
      ]
     },
     "execution_count": 15,
     "metadata": {},
     "output_type": "execute_result"
    }
   ],
   "source": [
    "df_train"
   ]
  },
  {
   "cell_type": "code",
   "execution_count": 16,
   "id": "9cd32c08",
   "metadata": {},
   "outputs": [],
   "source": [
    "for i in range(len(train_folders)):\n",
    "    folder = train_folders[i]\n",
    "    a = os.listdir(os.path.join(base_path,folders[0],folder))\n",
    "    df = pd.DataFrame(a, columns =['Names'])\n",
    "    df = df.assign(Folder_Name = folder)\n",
    "    data = pd.concat([df_train, df], ignore_index=True)\n",
    "    df_train = data\n",
    "        "
   ]
  },
  {
   "cell_type": "code",
   "execution_count": 17,
   "id": "959aaf90",
   "metadata": {},
   "outputs": [
    {
     "data": {
      "text/html": [
       "<div>\n",
       "<style scoped>\n",
       "    .dataframe tbody tr th:only-of-type {\n",
       "        vertical-align: middle;\n",
       "    }\n",
       "\n",
       "    .dataframe tbody tr th {\n",
       "        vertical-align: top;\n",
       "    }\n",
       "\n",
       "    .dataframe thead th {\n",
       "        text-align: right;\n",
       "    }\n",
       "</style>\n",
       "<table border=\"1\" class=\"dataframe\">\n",
       "  <thead>\n",
       "    <tr style=\"text-align: right;\">\n",
       "      <th></th>\n",
       "      <th>Names</th>\n",
       "      <th>Folder_Name</th>\n",
       "    </tr>\n",
       "  </thead>\n",
       "  <tbody>\n",
       "    <tr>\n",
       "      <th>0</th>\n",
       "      <td>14541.jpg</td>\n",
       "      <td>sea</td>\n",
       "    </tr>\n",
       "    <tr>\n",
       "      <th>1</th>\n",
       "      <td>1543.jpg</td>\n",
       "      <td>sea</td>\n",
       "    </tr>\n",
       "    <tr>\n",
       "      <th>2</th>\n",
       "      <td>19360.jpg</td>\n",
       "      <td>sea</td>\n",
       "    </tr>\n",
       "    <tr>\n",
       "      <th>3</th>\n",
       "      <td>11382.jpg</td>\n",
       "      <td>sea</td>\n",
       "    </tr>\n",
       "    <tr>\n",
       "      <th>4</th>\n",
       "      <td>10177.jpg</td>\n",
       "      <td>sea</td>\n",
       "    </tr>\n",
       "    <tr>\n",
       "      <th>...</th>\n",
       "      <td>...</td>\n",
       "      <td>...</td>\n",
       "    </tr>\n",
       "    <tr>\n",
       "      <th>14029</th>\n",
       "      <td>11113.jpg</td>\n",
       "      <td>street</td>\n",
       "    </tr>\n",
       "    <tr>\n",
       "      <th>14030</th>\n",
       "      <td>1618.jpg</td>\n",
       "      <td>street</td>\n",
       "    </tr>\n",
       "    <tr>\n",
       "      <th>14031</th>\n",
       "      <td>14839.jpg</td>\n",
       "      <td>street</td>\n",
       "    </tr>\n",
       "    <tr>\n",
       "      <th>14032</th>\n",
       "      <td>3911.jpg</td>\n",
       "      <td>street</td>\n",
       "    </tr>\n",
       "    <tr>\n",
       "      <th>14033</th>\n",
       "      <td>1091.jpg</td>\n",
       "      <td>street</td>\n",
       "    </tr>\n",
       "  </tbody>\n",
       "</table>\n",
       "<p>14034 rows × 2 columns</p>\n",
       "</div>"
      ],
      "text/plain": [
       "           Names Folder_Name\n",
       "0      14541.jpg         sea\n",
       "1       1543.jpg         sea\n",
       "2      19360.jpg         sea\n",
       "3      11382.jpg         sea\n",
       "4      10177.jpg         sea\n",
       "...          ...         ...\n",
       "14029  11113.jpg      street\n",
       "14030   1618.jpg      street\n",
       "14031  14839.jpg      street\n",
       "14032   3911.jpg      street\n",
       "14033   1091.jpg      street\n",
       "\n",
       "[14034 rows x 2 columns]"
      ]
     },
     "execution_count": 17,
     "metadata": {},
     "output_type": "execute_result"
    }
   ],
   "source": [
    "df_train"
   ]
  },
  {
   "cell_type": "code",
   "execution_count": 18,
   "id": "9fda991c",
   "metadata": {},
   "outputs": [
    {
     "data": {
      "text/plain": [
       "array(['sea', 'glacier', 'forest', 'mountain', 'buildings', 'street'],\n",
       "      dtype=object)"
      ]
     },
     "execution_count": 18,
     "metadata": {},
     "output_type": "execute_result"
    }
   ],
   "source": [
    "df_train['Folder_Name'].unique()"
   ]
  },
  {
   "cell_type": "code",
   "execution_count": 19,
   "id": "b76e1d13",
   "metadata": {},
   "outputs": [
    {
     "data": {
      "text/plain": [
       "0        14541.jpg\n",
       "1         1543.jpg\n",
       "2        19360.jpg\n",
       "3        11382.jpg\n",
       "4        10177.jpg\n",
       "           ...    \n",
       "14029    11113.jpg\n",
       "14030     1618.jpg\n",
       "14031    14839.jpg\n",
       "14032     3911.jpg\n",
       "14033     1091.jpg\n",
       "Name: Names, Length: 14034, dtype: object"
      ]
     },
     "execution_count": 19,
     "metadata": {},
     "output_type": "execute_result"
    }
   ],
   "source": [
    "df_train['Names']"
   ]
  },
  {
   "cell_type": "code",
   "execution_count": 20,
   "id": "b929b19a",
   "metadata": {},
   "outputs": [
    {
     "data": {
      "text/plain": [
       "['seg_train', 'seg_test', 'seg_pred']"
      ]
     },
     "execution_count": 20,
     "metadata": {},
     "output_type": "execute_result"
    }
   ],
   "source": [
    "folders"
   ]
  },
  {
   "cell_type": "code",
   "execution_count": 21,
   "id": "23e9284d",
   "metadata": {},
   "outputs": [
    {
     "data": {
      "text/plain": [
       "0        /home/kate/PycharmProjects/image_prediction/im...\n",
       "1        /home/kate/PycharmProjects/image_prediction/im...\n",
       "2        /home/kate/PycharmProjects/image_prediction/im...\n",
       "3        /home/kate/PycharmProjects/image_prediction/im...\n",
       "4        /home/kate/PycharmProjects/image_prediction/im...\n",
       "                               ...                        \n",
       "14029    /home/kate/PycharmProjects/image_prediction/im...\n",
       "14030    /home/kate/PycharmProjects/image_prediction/im...\n",
       "14031    /home/kate/PycharmProjects/image_prediction/im...\n",
       "14032    /home/kate/PycharmProjects/image_prediction/im...\n",
       "14033    /home/kate/PycharmProjects/image_prediction/im...\n",
       "Name: Folder_Name, Length: 14034, dtype: object"
      ]
     },
     "execution_count": 21,
     "metadata": {},
     "output_type": "execute_result"
    }
   ],
   "source": [
    "base_path+folders[0]+'/'+df_train['Folder_Name']"
   ]
  },
  {
   "cell_type": "code",
   "execution_count": 22,
   "id": "d127faae",
   "metadata": {},
   "outputs": [],
   "source": [
    "df_train['folder_for_file'] = base_path+folders[0]+'/'+ df_train['Folder_Name']+'/'+df_train['Names']\n"
   ]
  },
  {
   "cell_type": "code",
   "execution_count": 23,
   "id": "14112795",
   "metadata": {},
   "outputs": [
    {
     "data": {
      "text/html": [
       "<div>\n",
       "<style scoped>\n",
       "    .dataframe tbody tr th:only-of-type {\n",
       "        vertical-align: middle;\n",
       "    }\n",
       "\n",
       "    .dataframe tbody tr th {\n",
       "        vertical-align: top;\n",
       "    }\n",
       "\n",
       "    .dataframe thead th {\n",
       "        text-align: right;\n",
       "    }\n",
       "</style>\n",
       "<table border=\"1\" class=\"dataframe\">\n",
       "  <thead>\n",
       "    <tr style=\"text-align: right;\">\n",
       "      <th></th>\n",
       "      <th>Names</th>\n",
       "      <th>Folder_Name</th>\n",
       "      <th>folder_for_file</th>\n",
       "    </tr>\n",
       "  </thead>\n",
       "  <tbody>\n",
       "    <tr>\n",
       "      <th>0</th>\n",
       "      <td>14541.jpg</td>\n",
       "      <td>sea</td>\n",
       "      <td>/home/kate/PycharmProjects/image_prediction/im...</td>\n",
       "    </tr>\n",
       "    <tr>\n",
       "      <th>1</th>\n",
       "      <td>1543.jpg</td>\n",
       "      <td>sea</td>\n",
       "      <td>/home/kate/PycharmProjects/image_prediction/im...</td>\n",
       "    </tr>\n",
       "    <tr>\n",
       "      <th>2</th>\n",
       "      <td>19360.jpg</td>\n",
       "      <td>sea</td>\n",
       "      <td>/home/kate/PycharmProjects/image_prediction/im...</td>\n",
       "    </tr>\n",
       "    <tr>\n",
       "      <th>3</th>\n",
       "      <td>11382.jpg</td>\n",
       "      <td>sea</td>\n",
       "      <td>/home/kate/PycharmProjects/image_prediction/im...</td>\n",
       "    </tr>\n",
       "    <tr>\n",
       "      <th>4</th>\n",
       "      <td>10177.jpg</td>\n",
       "      <td>sea</td>\n",
       "      <td>/home/kate/PycharmProjects/image_prediction/im...</td>\n",
       "    </tr>\n",
       "    <tr>\n",
       "      <th>...</th>\n",
       "      <td>...</td>\n",
       "      <td>...</td>\n",
       "      <td>...</td>\n",
       "    </tr>\n",
       "    <tr>\n",
       "      <th>14029</th>\n",
       "      <td>11113.jpg</td>\n",
       "      <td>street</td>\n",
       "      <td>/home/kate/PycharmProjects/image_prediction/im...</td>\n",
       "    </tr>\n",
       "    <tr>\n",
       "      <th>14030</th>\n",
       "      <td>1618.jpg</td>\n",
       "      <td>street</td>\n",
       "      <td>/home/kate/PycharmProjects/image_prediction/im...</td>\n",
       "    </tr>\n",
       "    <tr>\n",
       "      <th>14031</th>\n",
       "      <td>14839.jpg</td>\n",
       "      <td>street</td>\n",
       "      <td>/home/kate/PycharmProjects/image_prediction/im...</td>\n",
       "    </tr>\n",
       "    <tr>\n",
       "      <th>14032</th>\n",
       "      <td>3911.jpg</td>\n",
       "      <td>street</td>\n",
       "      <td>/home/kate/PycharmProjects/image_prediction/im...</td>\n",
       "    </tr>\n",
       "    <tr>\n",
       "      <th>14033</th>\n",
       "      <td>1091.jpg</td>\n",
       "      <td>street</td>\n",
       "      <td>/home/kate/PycharmProjects/image_prediction/im...</td>\n",
       "    </tr>\n",
       "  </tbody>\n",
       "</table>\n",
       "<p>14034 rows × 3 columns</p>\n",
       "</div>"
      ],
      "text/plain": [
       "           Names Folder_Name  \\\n",
       "0      14541.jpg         sea   \n",
       "1       1543.jpg         sea   \n",
       "2      19360.jpg         sea   \n",
       "3      11382.jpg         sea   \n",
       "4      10177.jpg         sea   \n",
       "...          ...         ...   \n",
       "14029  11113.jpg      street   \n",
       "14030   1618.jpg      street   \n",
       "14031  14839.jpg      street   \n",
       "14032   3911.jpg      street   \n",
       "14033   1091.jpg      street   \n",
       "\n",
       "                                         folder_for_file  \n",
       "0      /home/kate/PycharmProjects/image_prediction/im...  \n",
       "1      /home/kate/PycharmProjects/image_prediction/im...  \n",
       "2      /home/kate/PycharmProjects/image_prediction/im...  \n",
       "3      /home/kate/PycharmProjects/image_prediction/im...  \n",
       "4      /home/kate/PycharmProjects/image_prediction/im...  \n",
       "...                                                  ...  \n",
       "14029  /home/kate/PycharmProjects/image_prediction/im...  \n",
       "14030  /home/kate/PycharmProjects/image_prediction/im...  \n",
       "14031  /home/kate/PycharmProjects/image_prediction/im...  \n",
       "14032  /home/kate/PycharmProjects/image_prediction/im...  \n",
       "14033  /home/kate/PycharmProjects/image_prediction/im...  \n",
       "\n",
       "[14034 rows x 3 columns]"
      ]
     },
     "execution_count": 23,
     "metadata": {},
     "output_type": "execute_result"
    }
   ],
   "source": [
    "df_train"
   ]
  },
  {
   "cell_type": "code",
   "execution_count": 24,
   "id": "ec018476",
   "metadata": {},
   "outputs": [],
   "source": [
    "def custom_rating(folder):\n",
    "    if folder == 'glacier':\n",
    "        return (2)\n",
    "    elif folder == 'sea':\n",
    "        return (4)\n",
    "    elif folder == 'buildings':\n",
    "        return (0)\n",
    "    elif folder == 'forest':\n",
    "        return (1)\n",
    "    elif folder == 'street':\n",
    "        return (5)\n",
    "    \n",
    "    elif folder == 'mountain':\n",
    "        return (3)\n",
    "        \n",
    "df_train['label'] = df_train.Folder_Name.apply(lambda x: custom_rating(x))"
   ]
  },
  {
   "cell_type": "code",
   "execution_count": 25,
   "id": "4621aee0",
   "metadata": {},
   "outputs": [
    {
     "data": {
      "text/html": [
       "<div>\n",
       "<style scoped>\n",
       "    .dataframe tbody tr th:only-of-type {\n",
       "        vertical-align: middle;\n",
       "    }\n",
       "\n",
       "    .dataframe tbody tr th {\n",
       "        vertical-align: top;\n",
       "    }\n",
       "\n",
       "    .dataframe thead th {\n",
       "        text-align: right;\n",
       "    }\n",
       "</style>\n",
       "<table border=\"1\" class=\"dataframe\">\n",
       "  <thead>\n",
       "    <tr style=\"text-align: right;\">\n",
       "      <th></th>\n",
       "      <th>Names</th>\n",
       "      <th>Folder_Name</th>\n",
       "      <th>folder_for_file</th>\n",
       "      <th>label</th>\n",
       "    </tr>\n",
       "  </thead>\n",
       "  <tbody>\n",
       "    <tr>\n",
       "      <th>0</th>\n",
       "      <td>14541.jpg</td>\n",
       "      <td>sea</td>\n",
       "      <td>/home/kate/PycharmProjects/image_prediction/im...</td>\n",
       "      <td>4</td>\n",
       "    </tr>\n",
       "    <tr>\n",
       "      <th>1</th>\n",
       "      <td>1543.jpg</td>\n",
       "      <td>sea</td>\n",
       "      <td>/home/kate/PycharmProjects/image_prediction/im...</td>\n",
       "      <td>4</td>\n",
       "    </tr>\n",
       "    <tr>\n",
       "      <th>2</th>\n",
       "      <td>19360.jpg</td>\n",
       "      <td>sea</td>\n",
       "      <td>/home/kate/PycharmProjects/image_prediction/im...</td>\n",
       "      <td>4</td>\n",
       "    </tr>\n",
       "    <tr>\n",
       "      <th>3</th>\n",
       "      <td>11382.jpg</td>\n",
       "      <td>sea</td>\n",
       "      <td>/home/kate/PycharmProjects/image_prediction/im...</td>\n",
       "      <td>4</td>\n",
       "    </tr>\n",
       "    <tr>\n",
       "      <th>4</th>\n",
       "      <td>10177.jpg</td>\n",
       "      <td>sea</td>\n",
       "      <td>/home/kate/PycharmProjects/image_prediction/im...</td>\n",
       "      <td>4</td>\n",
       "    </tr>\n",
       "    <tr>\n",
       "      <th>...</th>\n",
       "      <td>...</td>\n",
       "      <td>...</td>\n",
       "      <td>...</td>\n",
       "      <td>...</td>\n",
       "    </tr>\n",
       "    <tr>\n",
       "      <th>14029</th>\n",
       "      <td>11113.jpg</td>\n",
       "      <td>street</td>\n",
       "      <td>/home/kate/PycharmProjects/image_prediction/im...</td>\n",
       "      <td>5</td>\n",
       "    </tr>\n",
       "    <tr>\n",
       "      <th>14030</th>\n",
       "      <td>1618.jpg</td>\n",
       "      <td>street</td>\n",
       "      <td>/home/kate/PycharmProjects/image_prediction/im...</td>\n",
       "      <td>5</td>\n",
       "    </tr>\n",
       "    <tr>\n",
       "      <th>14031</th>\n",
       "      <td>14839.jpg</td>\n",
       "      <td>street</td>\n",
       "      <td>/home/kate/PycharmProjects/image_prediction/im...</td>\n",
       "      <td>5</td>\n",
       "    </tr>\n",
       "    <tr>\n",
       "      <th>14032</th>\n",
       "      <td>3911.jpg</td>\n",
       "      <td>street</td>\n",
       "      <td>/home/kate/PycharmProjects/image_prediction/im...</td>\n",
       "      <td>5</td>\n",
       "    </tr>\n",
       "    <tr>\n",
       "      <th>14033</th>\n",
       "      <td>1091.jpg</td>\n",
       "      <td>street</td>\n",
       "      <td>/home/kate/PycharmProjects/image_prediction/im...</td>\n",
       "      <td>5</td>\n",
       "    </tr>\n",
       "  </tbody>\n",
       "</table>\n",
       "<p>14034 rows × 4 columns</p>\n",
       "</div>"
      ],
      "text/plain": [
       "           Names Folder_Name  \\\n",
       "0      14541.jpg         sea   \n",
       "1       1543.jpg         sea   \n",
       "2      19360.jpg         sea   \n",
       "3      11382.jpg         sea   \n",
       "4      10177.jpg         sea   \n",
       "...          ...         ...   \n",
       "14029  11113.jpg      street   \n",
       "14030   1618.jpg      street   \n",
       "14031  14839.jpg      street   \n",
       "14032   3911.jpg      street   \n",
       "14033   1091.jpg      street   \n",
       "\n",
       "                                         folder_for_file  label  \n",
       "0      /home/kate/PycharmProjects/image_prediction/im...      4  \n",
       "1      /home/kate/PycharmProjects/image_prediction/im...      4  \n",
       "2      /home/kate/PycharmProjects/image_prediction/im...      4  \n",
       "3      /home/kate/PycharmProjects/image_prediction/im...      4  \n",
       "4      /home/kate/PycharmProjects/image_prediction/im...      4  \n",
       "...                                                  ...    ...  \n",
       "14029  /home/kate/PycharmProjects/image_prediction/im...      5  \n",
       "14030  /home/kate/PycharmProjects/image_prediction/im...      5  \n",
       "14031  /home/kate/PycharmProjects/image_prediction/im...      5  \n",
       "14032  /home/kate/PycharmProjects/image_prediction/im...      5  \n",
       "14033  /home/kate/PycharmProjects/image_prediction/im...      5  \n",
       "\n",
       "[14034 rows x 4 columns]"
      ]
     },
     "execution_count": 25,
     "metadata": {},
     "output_type": "execute_result"
    }
   ],
   "source": [
    "df_train"
   ]
  },
  {
   "cell_type": "code",
   "execution_count": 26,
   "id": "34b239c4",
   "metadata": {},
   "outputs": [
    {
     "data": {
      "text/plain": [
       "4"
      ]
     },
     "execution_count": 26,
     "metadata": {},
     "output_type": "execute_result"
    }
   ],
   "source": [
    "df_train.label[0]"
   ]
  },
  {
   "cell_type": "code",
   "execution_count": 27,
   "id": "af65bc49",
   "metadata": {},
   "outputs": [
    {
     "data": {
      "text/plain": [
       "'/home/kate/PycharmProjects/image_prediction/images/seg_train/sea/14541.jpg'"
      ]
     },
     "execution_count": 27,
     "metadata": {},
     "output_type": "execute_result"
    }
   ],
   "source": [
    "df_train.folder_for_file[0]"
   ]
  },
  {
   "cell_type": "code",
   "execution_count": 28,
   "id": "51b13355",
   "metadata": {},
   "outputs": [
    {
     "name": "stderr",
     "output_type": "stream",
     "text": [
      "2022-06-14 17:07:22.554912: W tensorflow/stream_executor/platform/default/dso_loader.cc:64] Could not load dynamic library 'libcudart.so.11.0'; dlerror: libcudart.so.11.0: cannot open shared object file: No such file or directory\n",
      "2022-06-14 17:07:22.554939: I tensorflow/stream_executor/cuda/cudart_stub.cc:29] Ignore above cudart dlerror if you do not have a GPU set up on your machine.\n"
     ]
    }
   ],
   "source": [
    "%matplotlib inline\n",
    "import autogluon.core as ag\n",
    "from autogluon.vision import ImageDataset\n",
    "import pandas as pd"
   ]
  },
  {
   "cell_type": "code",
   "execution_count": 29,
   "id": "81394e93",
   "metadata": {},
   "outputs": [],
   "source": [
    "import os\n",
    "import cv2\n",
    "import matplotlib.pyplot as plt\n",
    "from sklearn.utils import shuffle\n",
    "import numpy as np"
   ]
  },
  {
   "cell_type": "code",
   "execution_count": 30,
   "id": "015ab012",
   "metadata": {},
   "outputs": [],
   "source": [
    "import autogluon.core as ag\n",
    "from autogluon.vision import ImagePredictor, ImageDataset"
   ]
  },
  {
   "cell_type": "code",
   "execution_count": 31,
   "id": "9164dfa3",
   "metadata": {},
   "outputs": [],
   "source": [
    "train_dataset = df_train[['folder_for_file','label']]"
   ]
  },
  {
   "cell_type": "code",
   "execution_count": 32,
   "id": "f21da225",
   "metadata": {},
   "outputs": [
    {
     "data": {
      "text/html": [
       "<div>\n",
       "<style scoped>\n",
       "    .dataframe tbody tr th:only-of-type {\n",
       "        vertical-align: middle;\n",
       "    }\n",
       "\n",
       "    .dataframe tbody tr th {\n",
       "        vertical-align: top;\n",
       "    }\n",
       "\n",
       "    .dataframe thead th {\n",
       "        text-align: right;\n",
       "    }\n",
       "</style>\n",
       "<table border=\"1\" class=\"dataframe\">\n",
       "  <thead>\n",
       "    <tr style=\"text-align: right;\">\n",
       "      <th></th>\n",
       "      <th>folder_for_file</th>\n",
       "      <th>label</th>\n",
       "    </tr>\n",
       "  </thead>\n",
       "  <tbody>\n",
       "    <tr>\n",
       "      <th>0</th>\n",
       "      <td>/home/kate/PycharmProjects/image_prediction/im...</td>\n",
       "      <td>4</td>\n",
       "    </tr>\n",
       "    <tr>\n",
       "      <th>1</th>\n",
       "      <td>/home/kate/PycharmProjects/image_prediction/im...</td>\n",
       "      <td>4</td>\n",
       "    </tr>\n",
       "    <tr>\n",
       "      <th>2</th>\n",
       "      <td>/home/kate/PycharmProjects/image_prediction/im...</td>\n",
       "      <td>4</td>\n",
       "    </tr>\n",
       "    <tr>\n",
       "      <th>3</th>\n",
       "      <td>/home/kate/PycharmProjects/image_prediction/im...</td>\n",
       "      <td>4</td>\n",
       "    </tr>\n",
       "    <tr>\n",
       "      <th>4</th>\n",
       "      <td>/home/kate/PycharmProjects/image_prediction/im...</td>\n",
       "      <td>4</td>\n",
       "    </tr>\n",
       "    <tr>\n",
       "      <th>...</th>\n",
       "      <td>...</td>\n",
       "      <td>...</td>\n",
       "    </tr>\n",
       "    <tr>\n",
       "      <th>14029</th>\n",
       "      <td>/home/kate/PycharmProjects/image_prediction/im...</td>\n",
       "      <td>5</td>\n",
       "    </tr>\n",
       "    <tr>\n",
       "      <th>14030</th>\n",
       "      <td>/home/kate/PycharmProjects/image_prediction/im...</td>\n",
       "      <td>5</td>\n",
       "    </tr>\n",
       "    <tr>\n",
       "      <th>14031</th>\n",
       "      <td>/home/kate/PycharmProjects/image_prediction/im...</td>\n",
       "      <td>5</td>\n",
       "    </tr>\n",
       "    <tr>\n",
       "      <th>14032</th>\n",
       "      <td>/home/kate/PycharmProjects/image_prediction/im...</td>\n",
       "      <td>5</td>\n",
       "    </tr>\n",
       "    <tr>\n",
       "      <th>14033</th>\n",
       "      <td>/home/kate/PycharmProjects/image_prediction/im...</td>\n",
       "      <td>5</td>\n",
       "    </tr>\n",
       "  </tbody>\n",
       "</table>\n",
       "<p>14034 rows × 2 columns</p>\n",
       "</div>"
      ],
      "text/plain": [
       "                                         folder_for_file  label\n",
       "0      /home/kate/PycharmProjects/image_prediction/im...      4\n",
       "1      /home/kate/PycharmProjects/image_prediction/im...      4\n",
       "2      /home/kate/PycharmProjects/image_prediction/im...      4\n",
       "3      /home/kate/PycharmProjects/image_prediction/im...      4\n",
       "4      /home/kate/PycharmProjects/image_prediction/im...      4\n",
       "...                                                  ...    ...\n",
       "14029  /home/kate/PycharmProjects/image_prediction/im...      5\n",
       "14030  /home/kate/PycharmProjects/image_prediction/im...      5\n",
       "14031  /home/kate/PycharmProjects/image_prediction/im...      5\n",
       "14032  /home/kate/PycharmProjects/image_prediction/im...      5\n",
       "14033  /home/kate/PycharmProjects/image_prediction/im...      5\n",
       "\n",
       "[14034 rows x 2 columns]"
      ]
     },
     "execution_count": 32,
     "metadata": {},
     "output_type": "execute_result"
    }
   ],
   "source": [
    "train_dataset"
   ]
  },
  {
   "cell_type": "code",
   "execution_count": 33,
   "id": "c0839b48",
   "metadata": {},
   "outputs": [
    {
     "data": {
      "text/html": [
       "<div>\n",
       "<style scoped>\n",
       "    .dataframe tbody tr th:only-of-type {\n",
       "        vertical-align: middle;\n",
       "    }\n",
       "\n",
       "    .dataframe tbody tr th {\n",
       "        vertical-align: top;\n",
       "    }\n",
       "\n",
       "    .dataframe thead th {\n",
       "        text-align: right;\n",
       "    }\n",
       "</style>\n",
       "<table border=\"1\" class=\"dataframe\">\n",
       "  <thead>\n",
       "    <tr style=\"text-align: right;\">\n",
       "      <th></th>\n",
       "      <th>folder_for_file</th>\n",
       "      <th>label</th>\n",
       "    </tr>\n",
       "  </thead>\n",
       "  <tbody>\n",
       "    <tr>\n",
       "      <th>0</th>\n",
       "      <td>/home/kate/PycharmProjects/image_prediction/im...</td>\n",
       "      <td>4</td>\n",
       "    </tr>\n",
       "    <tr>\n",
       "      <th>1</th>\n",
       "      <td>/home/kate/PycharmProjects/image_prediction/im...</td>\n",
       "      <td>4</td>\n",
       "    </tr>\n",
       "    <tr>\n",
       "      <th>2</th>\n",
       "      <td>/home/kate/PycharmProjects/image_prediction/im...</td>\n",
       "      <td>4</td>\n",
       "    </tr>\n",
       "    <tr>\n",
       "      <th>3</th>\n",
       "      <td>/home/kate/PycharmProjects/image_prediction/im...</td>\n",
       "      <td>4</td>\n",
       "    </tr>\n",
       "    <tr>\n",
       "      <th>4</th>\n",
       "      <td>/home/kate/PycharmProjects/image_prediction/im...</td>\n",
       "      <td>4</td>\n",
       "    </tr>\n",
       "    <tr>\n",
       "      <th>...</th>\n",
       "      <td>...</td>\n",
       "      <td>...</td>\n",
       "    </tr>\n",
       "    <tr>\n",
       "      <th>14029</th>\n",
       "      <td>/home/kate/PycharmProjects/image_prediction/im...</td>\n",
       "      <td>5</td>\n",
       "    </tr>\n",
       "    <tr>\n",
       "      <th>14030</th>\n",
       "      <td>/home/kate/PycharmProjects/image_prediction/im...</td>\n",
       "      <td>5</td>\n",
       "    </tr>\n",
       "    <tr>\n",
       "      <th>14031</th>\n",
       "      <td>/home/kate/PycharmProjects/image_prediction/im...</td>\n",
       "      <td>5</td>\n",
       "    </tr>\n",
       "    <tr>\n",
       "      <th>14032</th>\n",
       "      <td>/home/kate/PycharmProjects/image_prediction/im...</td>\n",
       "      <td>5</td>\n",
       "    </tr>\n",
       "    <tr>\n",
       "      <th>14033</th>\n",
       "      <td>/home/kate/PycharmProjects/image_prediction/im...</td>\n",
       "      <td>5</td>\n",
       "    </tr>\n",
       "  </tbody>\n",
       "</table>\n",
       "<p>14034 rows × 2 columns</p>\n",
       "</div>"
      ],
      "text/plain": [
       "                                         folder_for_file  label\n",
       "0      /home/kate/PycharmProjects/image_prediction/im...      4\n",
       "1      /home/kate/PycharmProjects/image_prediction/im...      4\n",
       "2      /home/kate/PycharmProjects/image_prediction/im...      4\n",
       "3      /home/kate/PycharmProjects/image_prediction/im...      4\n",
       "4      /home/kate/PycharmProjects/image_prediction/im...      4\n",
       "...                                                  ...    ...\n",
       "14029  /home/kate/PycharmProjects/image_prediction/im...      5\n",
       "14030  /home/kate/PycharmProjects/image_prediction/im...      5\n",
       "14031  /home/kate/PycharmProjects/image_prediction/im...      5\n",
       "14032  /home/kate/PycharmProjects/image_prediction/im...      5\n",
       "14033  /home/kate/PycharmProjects/image_prediction/im...      5\n",
       "\n",
       "[14034 rows x 2 columns]"
      ]
     },
     "execution_count": 33,
     "metadata": {},
     "output_type": "execute_result"
    }
   ],
   "source": [
    "train_dataset"
   ]
  },
  {
   "cell_type": "code",
   "execution_count": 34,
   "id": "5b67faa4",
   "metadata": {},
   "outputs": [],
   "source": [
    "train_dataset = train_dataset.rename(columns={\"folder_for_file\": \"image\"})"
   ]
  },
  {
   "cell_type": "code",
   "execution_count": 35,
   "id": "29af2877",
   "metadata": {},
   "outputs": [],
   "source": [
    "predictor = ImagePredictor()"
   ]
  },
  {
   "cell_type": "code",
   "execution_count": 36,
   "id": "e1b92c67",
   "metadata": {},
   "outputs": [
    {
     "name": "stderr",
     "output_type": "stream",
     "text": [
      "`time_limit=auto` set to `time_limit=7200`.\n",
      "Converting raw DataFrame to ImageDataset...\n",
      "Detected 6 unique classes: [0, 1, 2, 3, 4, 5]\n",
      "If you feel the `classes` is inaccurate, please construct the dataset explicitly, e.g. train_data = ImageDataset(train_data, classes=[\"foo\", \"bar\"])\n",
      "Randomly split train_data into train[12630]/validation[1404] splits.\n",
      "The number of requested GPUs is greater than the number of available GPUs.Reduce the number to 1\n",
      "Starting fit without HPO\n",
      "modified configs(<old> != <new>): {\n",
      "root.img_cls.model   resnet101 != resnet50\n",
      "root.train.batch_size 32 != 16\n",
      "root.train.early_stop_max_value 1.0 != inf\n",
      "root.train.early_stop_patience -1 != 10\n",
      "root.train.epochs    200 != 2\n",
      "root.train.early_stop_baseline 0.0 != -inf\n",
      "root.misc.seed       42 != 171\n",
      "root.misc.num_workers 4 != 12\n",
      "}\n",
      "Saved config to /home/kate/PycharmProjects/image_prediction/b2e55476/.trial_0/config.yaml\n",
      "No gpu detected, fallback to cpu. You can ignore this warning if this is intended.\n",
      "Model resnet50 created, param count:                                         23520326\n",
      "AMP not enabled. Training in float32.\n",
      "Disable EMA as it is not supported for now.\n",
      "Start training from [Epoch 0]\n",
      "Epoch[0] Batch [49]\tSpeed: 4.962660 samples/sec\taccuracy=0.228750\tlr=0.000100\n",
      "Epoch[0] Batch [99]\tSpeed: 8.326998 samples/sec\taccuracy=0.243750\tlr=0.000100\n",
      "Epoch[0] Batch [149]\tSpeed: 8.578162 samples/sec\taccuracy=0.266250\tlr=0.000100\n",
      "Epoch[0] Batch [199]\tSpeed: 8.432027 samples/sec\taccuracy=0.282813\tlr=0.000100\n",
      "Epoch[0] Batch [249]\tSpeed: 7.898694 samples/sec\taccuracy=0.291000\tlr=0.000100\n",
      "Epoch[0] Batch [299]\tSpeed: 7.779939 samples/sec\taccuracy=0.305000\tlr=0.000100\n",
      "Epoch[0] Batch [349]\tSpeed: 7.756461 samples/sec\taccuracy=0.316607\tlr=0.000100\n",
      "Epoch[0] Batch [399]\tSpeed: 8.052969 samples/sec\taccuracy=0.327969\tlr=0.000100\n",
      "Epoch[0] Batch [449]\tSpeed: 7.767020 samples/sec\taccuracy=0.339722\tlr=0.000100\n",
      "Epoch[0] Batch [499]\tSpeed: 7.765967 samples/sec\taccuracy=0.348750\tlr=0.000100\n",
      "Epoch[0] Batch [549]\tSpeed: 8.221617 samples/sec\taccuracy=0.357159\tlr=0.000100\n",
      "Epoch[0] Batch [599]\tSpeed: 8.171309 samples/sec\taccuracy=0.366458\tlr=0.000100\n",
      "Epoch[0] Batch [649]\tSpeed: 7.989175 samples/sec\taccuracy=0.373462\tlr=0.000100\n",
      "Epoch[0] Batch [699]\tSpeed: 7.971594 samples/sec\taccuracy=0.379464\tlr=0.000100\n",
      "Epoch[0] Batch [749]\tSpeed: 7.594283 samples/sec\taccuracy=0.388250\tlr=0.000100\n",
      "[Epoch 0] training: accuracy=0.394724\n",
      "[Epoch 0] speed: 7 samples/sec\ttime cost: 1636.490294\n",
      "[Epoch 0] validation: top1=0.621795 top5=0.994302\n",
      "[Epoch 0] Current best top-1: 0.621795 vs previous -inf, saved to /home/kate/PycharmProjects/image_prediction/b2e55476/.trial_0/best_checkpoint.pkl\n",
      "Epoch[1] Batch [49]\tSpeed: 7.680618 samples/sec\taccuracy=0.550000\tlr=0.003400\n",
      "Epoch[1] Batch [99]\tSpeed: 8.086111 samples/sec\taccuracy=0.581875\tlr=0.003400\n",
      "Epoch[1] Batch [149]\tSpeed: 7.988932 samples/sec\taccuracy=0.615000\tlr=0.003400\n",
      "Epoch[1] Batch [199]\tSpeed: 8.305128 samples/sec\taccuracy=0.635312\tlr=0.003400\n",
      "Epoch[1] Batch [249]\tSpeed: 8.433301 samples/sec\taccuracy=0.650500\tlr=0.003400\n",
      "Epoch[1] Batch [299]\tSpeed: 8.597577 samples/sec\taccuracy=0.665833\tlr=0.003400\n",
      "Epoch[1] Batch [349]\tSpeed: 8.500907 samples/sec\taccuracy=0.680714\tlr=0.003400\n",
      "Epoch[1] Batch [399]\tSpeed: 8.404679 samples/sec\taccuracy=0.693125\tlr=0.003400\n",
      "Epoch[1] Batch [449]\tSpeed: 8.544335 samples/sec\taccuracy=0.698194\tlr=0.003400\n",
      "Epoch[1] Batch [499]\tSpeed: 8.596643 samples/sec\taccuracy=0.705625\tlr=0.003400\n",
      "Epoch[1] Batch [549]\tSpeed: 8.208987 samples/sec\taccuracy=0.710568\tlr=0.003400\n",
      "Epoch[1] Batch [599]\tSpeed: 8.345486 samples/sec\taccuracy=0.715729\tlr=0.003400\n",
      "Epoch[1] Batch [649]\tSpeed: 7.751175 samples/sec\taccuracy=0.719904\tlr=0.003400\n",
      "Epoch[1] Batch [699]\tSpeed: 7.962169 samples/sec\taccuracy=0.723661\tlr=0.003400\n",
      "Epoch[1] Batch [749]\tSpeed: 7.926440 samples/sec\taccuracy=0.728250\tlr=0.003400\n",
      "[Epoch 1] training: accuracy=0.731226\n",
      "[Epoch 1] speed: 8 samples/sec\ttime cost: 1538.737399\n",
      "[Epoch 1] validation: top1=0.865385 top5=0.997863\n",
      "[Epoch 1] Current best top-1: 0.865385 vs previous 0.621795, saved to /home/kate/PycharmProjects/image_prediction/b2e55476/.trial_0/best_checkpoint.pkl\n",
      "Applying the state from the best checkpoint...\n",
      "Finished, total runtime is 3301.80 s\n",
      "{ 'best_config': { 'batch_size': 16,\n",
      "                   'dist_ip_addrs': None,\n",
      "                   'early_stop_baseline': -inf,\n",
      "                   'early_stop_max_value': inf,\n",
      "                   'early_stop_patience': 10,\n",
      "                   'epochs': 2,\n",
      "                   'final_fit': False,\n",
      "                   'gpus': [0],\n",
      "                   'lr': 0.01,\n",
      "                   'model': 'resnet50',\n",
      "                   'ngpus_per_trial': 8,\n",
      "                   'nthreads_per_trial': 128,\n",
      "                   'num_workers': 12,\n",
      "                   'searcher': 'random',\n",
      "                   'seed': 171,\n",
      "                   'time_limits': 7200},\n",
      "  'total_time': 3281.4349839687347,\n",
      "  'train_acc': 0.7312262357414449,\n",
      "  'valid_acc': 0.865384615724243}\n"
     ]
    },
    {
     "data": {
      "text/plain": [
       "<autogluon.vision.predictor.predictor.ImagePredictor at 0x7f1b4d856af0>"
      ]
     },
     "execution_count": 36,
     "metadata": {},
     "output_type": "execute_result"
    }
   ],
   "source": [
    "predictor.fit(train_dataset, hyperparameters={'epochs': 2})  # you can trust the default config, we reduce the # epoch to save some build time"
   ]
  },
  {
   "cell_type": "code",
   "execution_count": 37,
   "id": "c65f5f80",
   "metadata": {},
   "outputs": [],
   "source": [
    "model = ag.Categorical('resnet18_v1b', 'mobilenetv3_small')"
   ]
  },
  {
   "cell_type": "code",
   "execution_count": 38,
   "id": "896556dd",
   "metadata": {},
   "outputs": [],
   "source": [
    "batch_size = 8\n",
    "lr = ag.Categorical(1e-2, 1e-3)"
   ]
  },
  {
   "cell_type": "code",
   "execution_count": 39,
   "id": "8158e7bc",
   "metadata": {},
   "outputs": [],
   "source": [
    "hyperparameters={'model': model, 'batch_size': batch_size, 'lr': lr, 'epochs': 2}"
   ]
  },
  {
   "cell_type": "code",
   "execution_count": 41,
   "id": "e05ac6a1",
   "metadata": {},
   "outputs": [
    {
     "name": "stderr",
     "output_type": "stream",
     "text": [
      "ImagePredictor sets accuracy as default eval_metric for classification problems.\n",
      "Converting raw DataFrame to ImageDataset...\n",
      "Detected 6 unique classes: [0, 1, 2, 3, 4, 5]\n",
      "If you feel the `classes` is inaccurate, please construct the dataset explicitly, e.g. train_data = ImageDataset(train_data, classes=[\"foo\", \"bar\"])\n",
      "Randomly split train_data into train[12630]/validation[1404] splits.\n",
      "The number of requested GPUs is greater than the number of available GPUs.Reduce the number to 1\n",
      "Starting HPO experiments\n"
     ]
    },
    {
     "data": {
      "application/vnd.jupyter.widget-view+json": {
       "model_id": "0eec8cbb35394ae9b9d1817893bef634",
       "version_major": 2,
       "version_minor": 0
      },
      "text/plain": [
       "  0%|          | 0/2 [00:00<?, ?it/s]"
      ]
     },
     "metadata": {},
     "output_type": "display_data"
    },
    {
     "name": "stderr",
     "output_type": "stream",
     "text": [
      "=============================================================================\n",
      "WARNING: Using MXNet models in ImagePredictor is deprecated as of v0.4.0 and may contain various bugs and issues!\n",
      "In v0.5.0, ImagePredictor will no longer support training MXNet models. Please consider switching to specifying Torch models instead.\n",
      "Users should ensure they update their code that depends on ImagePredictor when upgrading to future AutoGluon releases.\n",
      "For more information, refer to this GitHub issue: https://github.com/awslabs/autogluon/issues/1560\n",
      "=============================================================================\n",
      "\n",
      "modified configs(<old> != <new>): {\n",
      "root.img_cls.model   resnet50_v1 != resnet18_v1b\n",
      "root.train.batch_size 128 != 8\n",
      "root.train.rec_train ~/.mxnet/datasets/imagenet/rec/train.rec != auto\n",
      "root.train.early_stop_max_value 1.0 != inf\n",
      "root.train.early_stop_patience -1 != 10\n",
      "root.train.rec_train_idx ~/.mxnet/datasets/imagenet/rec/train.idx != auto\n",
      "root.train.rec_val   ~/.mxnet/datasets/imagenet/rec/val.rec != auto\n",
      "root.train.data_dir  ~/.mxnet/datasets/imagenet != auto\n",
      "root.train.epochs    10 != 2\n",
      "root.train.num_training_samples 1281167 != -1\n",
      "root.train.early_stop_baseline 0.0 != -inf\n",
      "root.train.lr        0.1 != 0.01\n",
      "root.train.rec_val_idx ~/.mxnet/datasets/imagenet/rec/val.idx != auto\n",
      "root.train.num_workers 4 != 12\n",
      "root.valid.num_workers 4 != 12\n",
      "root.valid.batch_size 128 != 8\n",
      "}\n",
      "Saved config to /home/kate/PycharmProjects/image_prediction/2f1ad510/.trial_0/config.yaml\n",
      "[No gpu detected, fallback to cpu. You can ignore this warning if this is intended.\n",
      "18:13:27] ../src/imperative/./imperative_utils.h:93: GPU support is disabled. Compile MXNet with USE_CUDA=1 to enable GPU support.\n",
      "Start training from [Epoch 0]\n",
      "Epoch[0] Batch [49]\tSpeed: 21.234290 samples/sec\taccuracy=0.327500\tlr=0.010000\n",
      "Epoch[0] Batch [99]\tSpeed: 25.148704 samples/sec\taccuracy=0.462500\tlr=0.010000\n",
      "Epoch[0] Batch [149]\tSpeed: 25.516834 samples/sec\taccuracy=0.522500\tlr=0.010000\n",
      "Epoch[0] Batch [199]\tSpeed: 24.155886 samples/sec\taccuracy=0.567500\tlr=0.010000\n",
      "Epoch[0] Batch [249]\tSpeed: 23.577094 samples/sec\taccuracy=0.585500\tlr=0.010000\n",
      "Epoch[0] Batch [299]\tSpeed: 23.296218 samples/sec\taccuracy=0.605833\tlr=0.010000\n",
      "Epoch[0] Batch [349]\tSpeed: 20.574714 samples/sec\taccuracy=0.620357\tlr=0.010000\n",
      "Epoch[0] Batch [399]\tSpeed: 22.533750 samples/sec\taccuracy=0.634687\tlr=0.010000\n",
      "Epoch[0] Batch [449]\tSpeed: 22.084308 samples/sec\taccuracy=0.648333\tlr=0.010000\n",
      "Epoch[0] Batch [499]\tSpeed: 20.095024 samples/sec\taccuracy=0.653750\tlr=0.010000\n",
      "Epoch[0] Batch [549]\tSpeed: 20.064374 samples/sec\taccuracy=0.660227\tlr=0.010000\n",
      "Epoch[0] Batch [599]\tSpeed: 20.062097 samples/sec\taccuracy=0.670833\tlr=0.010000\n",
      "Epoch[0] Batch [649]\tSpeed: 20.581628 samples/sec\taccuracy=0.677885\tlr=0.010000\n",
      "Epoch[0] Batch [699]\tSpeed: 21.693759 samples/sec\taccuracy=0.683393\tlr=0.010000\n",
      "Epoch[0] Batch [749]\tSpeed: 21.601527 samples/sec\taccuracy=0.687167\tlr=0.010000\n",
      "Epoch[0] Batch [799]\tSpeed: 21.621161 samples/sec\taccuracy=0.692187\tlr=0.010000\n",
      "Epoch[0] Batch [849]\tSpeed: 21.999956 samples/sec\taccuracy=0.698529\tlr=0.010000\n",
      "Epoch[0] Batch [899]\tSpeed: 23.387934 samples/sec\taccuracy=0.701806\tlr=0.010000\n",
      "Epoch[0] Batch [949]\tSpeed: 24.764077 samples/sec\taccuracy=0.703158\tlr=0.010000\n",
      "Epoch[0] Batch [999]\tSpeed: 23.578977 samples/sec\taccuracy=0.708375\tlr=0.010000\n",
      "Epoch[0] Batch [1049]\tSpeed: 20.275564 samples/sec\taccuracy=0.712976\tlr=0.010000\n",
      "Epoch[0] Batch [1099]\tSpeed: 21.286260 samples/sec\taccuracy=0.715795\tlr=0.010000\n",
      "Epoch[0] Batch [1149]\tSpeed: 21.928639 samples/sec\taccuracy=0.717826\tlr=0.010000\n",
      "Epoch[0] Batch [1199]\tSpeed: 24.998758 samples/sec\taccuracy=0.719271\tlr=0.010000\n",
      "Epoch[0] Batch [1249]\tSpeed: 25.075249 samples/sec\taccuracy=0.723600\tlr=0.010000\n",
      "Epoch[0] Batch [1299]\tSpeed: 21.754536 samples/sec\taccuracy=0.724423\tlr=0.010000\n",
      "Epoch[0] Batch [1349]\tSpeed: 21.389692 samples/sec\taccuracy=0.726481\tlr=0.010000\n",
      "Epoch[0] Batch [1399]\tSpeed: 22.568442 samples/sec\taccuracy=0.727232\tlr=0.010000\n",
      "Epoch[0] Batch [1449]\tSpeed: 25.123810 samples/sec\taccuracy=0.728879\tlr=0.010000\n",
      "Epoch[0] Batch [1499]\tSpeed: 23.097441 samples/sec\taccuracy=0.729583\tlr=0.010000\n",
      "Epoch[0] Batch [1549]\tSpeed: 23.586456 samples/sec\taccuracy=0.731210\tlr=0.010000\n",
      "[Epoch 0] training: accuracy=0.732811\n",
      "[Epoch 0] speed: 22 samples/sec\ttime cost: 563.463448\n",
      "[Epoch 0] validation: top1=0.895299 top5=0.999288\n",
      "[Epoch 0] Current best top-1: 0.895299 vs previous -inf, saved to /home/kate/PycharmProjects/image_prediction/2f1ad510/.trial_0/best_checkpoint.pkl\n",
      "`time_limit=599.9797806739807` reached, exit early...\n",
      "Applying the state from the best checkpoint...\n",
      "[18:23:35] ../src/imperative/./imperative_utils.h:93: GPU support is disabled. Compile MXNet with USE_CUDA=1 to enable GPU support.\n",
      "\tStopping HPO to satisfy time limit...\n",
      "=============================================================================\n",
      "WARNING: Using MXNet models in ImagePredictor is deprecated as of v0.4.0 and may contain various bugs and issues!\n",
      "In v0.5.0, ImagePredictor will no longer support training MXNet models. Please consider switching to specifying Torch models instead.\n",
      "Users should ensure they update their code that depends on ImagePredictor when upgrading to future AutoGluon releases.\n",
      "For more information, refer to this GitHub issue: https://github.com/awslabs/autogluon/issues/1560\n",
      "=============================================================================\n",
      "\n",
      "[18:23:36] ../src/imperative/./imperative_utils.h:93: GPU support is disabled. Compile MXNet with USE_CUDA=1 to enable GPU support.\n",
      "Saving Training Curve in /home/kate/PycharmProjects/image_prediction/2f1ad510/plot_training_curves.png\n"
     ]
    },
    {
     "data": {
      "image/png": "[encoded data removed]",
      "text/plain": [
       "<Figure size 432x288 with 1 Axes>"
      ]
     },
     "metadata": {
      "needs_background": "light"
     },
     "output_type": "display_data"
    },
    {
     "name": "stderr",
     "output_type": "stream",
     "text": [
      "Finished, total runtime is 609.62 s\n",
      "{ 'best_config': { 'estimator': <class 'gluoncv.auto.estimators.image_classification.image_classification.ImageClassificationEstimator'>,\n",
      "                   'gpus': [0],\n",
      "                   'img_cls': { 'batch_norm': False,\n",
      "                                'last_gamma': False,\n",
      "                                'model': 'resnet18_v1b',\n",
      "                                'use_gn': False,\n",
      "                                'use_pretrained': True,\n",
      "                                'use_se': False},\n",
      "                   'train': { 'batch_size': 8,\n",
      "                              'crop_ratio': 0.875,\n",
      "                              'data_dir': 'auto',\n",
      "                              'dtype': 'float32',\n",
      "                              'early_stop_baseline': -inf,\n",
      "                              'early_stop_max_value': inf,\n",
      "                              'early_stop_min_delta': 0.001,\n",
      "                              'early_stop_patience': 10,\n",
      "                              'epochs': 2,\n",
      "                              'hard_weight': 0.5,\n",
      "                              'input_size': 224,\n",
      "                              'label_smoothing': False,\n",
      "                              'log_interval': 50,\n",
      "                              'lr': 0.01,\n",
      "                              'lr_decay': 0.1,\n",
      "                              'lr_decay_epoch': '40, 60',\n",
      "                              'lr_decay_period': 0,\n",
      "                              'lr_mode': 'step',\n",
      "                              'mixup': False,\n",
      "                              'mixup_alpha': 0.2,\n",
      "                              'mixup_off_epoch': 0,\n",
      "                              'mode': '',\n",
      "                              'momentum': 0.9,\n",
      "                              'no_wd': False,\n",
      "                              'num_training_samples': -1,\n",
      "                              'num_workers': 12,\n",
      "                              'output_lr_mult': 0.1,\n",
      "                              'pretrained_base': True,\n",
      "                              'rec_train': 'auto',\n",
      "                              'rec_train_idx': 'auto',\n",
      "                              'rec_val': 'auto',\n",
      "                              'rec_val_idx': 'auto',\n",
      "                              'resume_epoch': 0,\n",
      "                              'start_epoch': 0,\n",
      "                              'teacher': None,\n",
      "                              'temperature': 20,\n",
      "                              'transfer_lr_mult': 0.01,\n",
      "                              'use_rec': False,\n",
      "                              'warmup_epochs': 0,\n",
      "                              'warmup_lr': 0.0,\n",
      "                              'wd': 0.0001},\n",
      "                   'valid': {'batch_size': 8, 'num_workers': 12}},\n",
      "  'total_time': 609.4358172416687,\n",
      "  'train_acc': 0.7328105196451205,\n",
      "  'valid_acc': 0.8952991452991453}\n"
     ]
    },
    {
     "name": "stdout",
     "output_type": "stream",
     "text": [
      "Top-1 val acc: 0.895\n"
     ]
    }
   ],
   "source": [
    "hyperparameters={'model': model, 'batch_size': batch_size, 'lr': lr, 'epochs': 2}\n",
    "predictor = ImagePredictor()\n",
    "predictor.fit(train_dataset, time_limit=60*10, hyperparameters=hyperparameters,\n",
    "              hyperparameter_tune_kwargs={'num_trials': 2})\n",
    "print('Top-1 val acc: %.3f' % predictor.fit_summary()['valid_acc'])"
   ]
  },
  {
   "cell_type": "code",
   "execution_count": 42,
   "id": "ae750201",
   "metadata": {},
   "outputs": [
    {
     "name": "stdout",
     "output_type": "stream",
     "text": [
      "Top-1 train acc: 0.733, val acc: 0.895\n"
     ]
    }
   ],
   "source": [
    "fit_result = predictor.fit_summary()\n",
    "print('Top-1 train acc: %.3f, val acc: %.3f' %(fit_result['train_acc'], fit_result['valid_acc']))"
   ]
  },
  {
   "cell_type": "code",
   "execution_count": 43,
   "id": "9509500c",
   "metadata": {},
   "outputs": [
    {
     "data": {
      "text/plain": [
       "'seg_pred'"
      ]
     },
     "execution_count": 43,
     "metadata": {},
     "output_type": "execute_result"
    }
   ],
   "source": [
    "folders[2]"
   ]
  },
  {
   "cell_type": "code",
   "execution_count": 44,
   "id": "3b359479",
   "metadata": {},
   "outputs": [],
   "source": [
    "pred_images = os.listdir(os.path.join(base_path,folders[2]))"
   ]
  },
  {
   "cell_type": "code",
   "execution_count": 45,
   "id": "53e23641",
   "metadata": {},
   "outputs": [],
   "source": [
    "df_pred = pd.DataFrame(pred_images, columns =['Names'])"
   ]
  },
  {
   "cell_type": "code",
   "execution_count": 46,
   "id": "184a351d",
   "metadata": {},
   "outputs": [
    {
     "data": {
      "text/html": [
       "<div>\n",
       "<style scoped>\n",
       "    .dataframe tbody tr th:only-of-type {\n",
       "        vertical-align: middle;\n",
       "    }\n",
       "\n",
       "    .dataframe tbody tr th {\n",
       "        vertical-align: top;\n",
       "    }\n",
       "\n",
       "    .dataframe thead th {\n",
       "        text-align: right;\n",
       "    }\n",
       "</style>\n",
       "<table border=\"1\" class=\"dataframe\">\n",
       "  <thead>\n",
       "    <tr style=\"text-align: right;\">\n",
       "      <th></th>\n",
       "      <th>Names</th>\n",
       "    </tr>\n",
       "  </thead>\n",
       "  <tbody>\n",
       "    <tr>\n",
       "      <th>0</th>\n",
       "      <td>21326.jpg</td>\n",
       "    </tr>\n",
       "    <tr>\n",
       "      <th>1</th>\n",
       "      <td>5803.jpg</td>\n",
       "    </tr>\n",
       "    <tr>\n",
       "      <th>2</th>\n",
       "      <td>12901.jpg</td>\n",
       "    </tr>\n",
       "    <tr>\n",
       "      <th>3</th>\n",
       "      <td>7943.jpg</td>\n",
       "    </tr>\n",
       "    <tr>\n",
       "      <th>4</th>\n",
       "      <td>677.jpg</td>\n",
       "    </tr>\n",
       "    <tr>\n",
       "      <th>...</th>\n",
       "      <td>...</td>\n",
       "    </tr>\n",
       "    <tr>\n",
       "      <th>7296</th>\n",
       "      <td>14821.jpg</td>\n",
       "    </tr>\n",
       "    <tr>\n",
       "      <th>7297</th>\n",
       "      <td>10855.jpg</td>\n",
       "    </tr>\n",
       "    <tr>\n",
       "      <th>7298</th>\n",
       "      <td>4236.jpg</td>\n",
       "    </tr>\n",
       "    <tr>\n",
       "      <th>7299</th>\n",
       "      <td>13136.jpg</td>\n",
       "    </tr>\n",
       "    <tr>\n",
       "      <th>7300</th>\n",
       "      <td>23857.jpg</td>\n",
       "    </tr>\n",
       "  </tbody>\n",
       "</table>\n",
       "<p>7301 rows × 1 columns</p>\n",
       "</div>"
      ],
      "text/plain": [
       "          Names\n",
       "0     21326.jpg\n",
       "1      5803.jpg\n",
       "2     12901.jpg\n",
       "3      7943.jpg\n",
       "4       677.jpg\n",
       "...         ...\n",
       "7296  14821.jpg\n",
       "7297  10855.jpg\n",
       "7298   4236.jpg\n",
       "7299  13136.jpg\n",
       "7300  23857.jpg\n",
       "\n",
       "[7301 rows x 1 columns]"
      ]
     },
     "execution_count": 46,
     "metadata": {},
     "output_type": "execute_result"
    }
   ],
   "source": [
    "df_pred"
   ]
  },
  {
   "cell_type": "code",
   "execution_count": 47,
   "id": "df0703f9",
   "metadata": {},
   "outputs": [
    {
     "data": {
      "text/plain": [
       "0       /home/kate/PycharmProjects/image_prediction/im...\n",
       "1       /home/kate/PycharmProjects/image_prediction/im...\n",
       "2       /home/kate/PycharmProjects/image_prediction/im...\n",
       "3       /home/kate/PycharmProjects/image_prediction/im...\n",
       "4       /home/kate/PycharmProjects/image_prediction/im...\n",
       "                              ...                        \n",
       "7296    /home/kate/PycharmProjects/image_prediction/im...\n",
       "7297    /home/kate/PycharmProjects/image_prediction/im...\n",
       "7298    /home/kate/PycharmProjects/image_prediction/im...\n",
       "7299    /home/kate/PycharmProjects/image_prediction/im...\n",
       "7300    /home/kate/PycharmProjects/image_prediction/im...\n",
       "Name: Names, Length: 7301, dtype: object"
      ]
     },
     "execution_count": 47,
     "metadata": {},
     "output_type": "execute_result"
    }
   ],
   "source": [
    "base_path+folders[2]+'/'+df_pred['Names']"
   ]
  },
  {
   "cell_type": "code",
   "execution_count": 48,
   "id": "39c87775",
   "metadata": {},
   "outputs": [],
   "source": [
    "df_pred['image'] = base_path+folders[2]+'/'+df_pred['Names']"
   ]
  },
  {
   "cell_type": "code",
   "execution_count": 49,
   "id": "508868b5",
   "metadata": {},
   "outputs": [
    {
     "data": {
      "text/plain": [
       "'/home/kate/PycharmProjects/image_prediction/images/seg_pred/21326.jpg'"
      ]
     },
     "execution_count": 49,
     "metadata": {},
     "output_type": "execute_result"
    }
   ],
   "source": [
    "df_pred.image[0]"
   ]
  },
  {
   "cell_type": "code",
   "execution_count": 50,
   "id": "ad4ab2b6",
   "metadata": {},
   "outputs": [],
   "source": [
    "result = predictor.predict(df_pred.image[0])"
   ]
  },
  {
   "cell_type": "code",
   "execution_count": 51,
   "id": "2e215774",
   "metadata": {},
   "outputs": [
    {
     "data": {
      "text/plain": [
       "'/home/kate/PycharmProjects/image_prediction/images/seg_pred/5803.jpg'"
      ]
     },
     "execution_count": 51,
     "metadata": {},
     "output_type": "execute_result"
    }
   ],
   "source": [
    "df_pred.image[1]"
   ]
  },
  {
   "cell_type": "code",
   "execution_count": 52,
   "id": "34078d90",
   "metadata": {},
   "outputs": [],
   "source": [
    "result = predictor.predict(df_pred.image[1])"
   ]
  },
  {
   "cell_type": "code",
   "execution_count": 53,
   "id": "304a02c5",
   "metadata": {},
   "outputs": [
    {
     "data": {
      "text/plain": [
       "0    4\n",
       "Name: label, dtype: int64"
      ]
     },
     "execution_count": 53,
     "metadata": {},
     "output_type": "execute_result"
    }
   ],
   "source": [
    "result"
   ]
  },
  {
   "cell_type": "code",
   "execution_count": 54,
   "id": "abdb758b",
   "metadata": {},
   "outputs": [],
   "source": [
    "test_folders = os.listdir(os.path.join(base_path,folders[1]))"
   ]
  },
  {
   "cell_type": "code",
   "execution_count": 55,
   "id": "afadb354",
   "metadata": {},
   "outputs": [
    {
     "data": {
      "text/plain": [
       "['sea', 'glacier', 'forest', 'mountain', 'buildings', 'street']"
      ]
     },
     "execution_count": 55,
     "metadata": {},
     "output_type": "execute_result"
    }
   ],
   "source": [
    "test_folders"
   ]
  },
  {
   "cell_type": "code",
   "execution_count": 56,
   "id": "3416e246",
   "metadata": {},
   "outputs": [],
   "source": [
    "df_test = pd.DataFrame(columns =['Names'])"
   ]
  },
  {
   "cell_type": "code",
   "execution_count": 57,
   "id": "e167ddc1",
   "metadata": {},
   "outputs": [],
   "source": [
    "for i in range(len(test_folders)):\n",
    "    folder = test_folders[i]\n",
    "    a = os.listdir(os.path.join(base_path,folders[1],folder))\n",
    "    df = pd.DataFrame(a, columns =['Names'])\n",
    "    df = df.assign(Folder_Name = folder)\n",
    "    data = pd.concat([df_test, df], ignore_index=True)\n",
    "    df_test = data\n",
    "        "
   ]
  },
  {
   "cell_type": "code",
   "execution_count": 58,
   "id": "62de6a55",
   "metadata": {},
   "outputs": [
    {
     "data": {
      "text/html": [
       "<div>\n",
       "<style scoped>\n",
       "    .dataframe tbody tr th:only-of-type {\n",
       "        vertical-align: middle;\n",
       "    }\n",
       "\n",
       "    .dataframe tbody tr th {\n",
       "        vertical-align: top;\n",
       "    }\n",
       "\n",
       "    .dataframe thead th {\n",
       "        text-align: right;\n",
       "    }\n",
       "</style>\n",
       "<table border=\"1\" class=\"dataframe\">\n",
       "  <thead>\n",
       "    <tr style=\"text-align: right;\">\n",
       "      <th></th>\n",
       "      <th>Names</th>\n",
       "      <th>Folder_Name</th>\n",
       "    </tr>\n",
       "  </thead>\n",
       "  <tbody>\n",
       "    <tr>\n",
       "      <th>0</th>\n",
       "      <td>20869.jpg</td>\n",
       "      <td>sea</td>\n",
       "    </tr>\n",
       "    <tr>\n",
       "      <th>1</th>\n",
       "      <td>24180.jpg</td>\n",
       "      <td>sea</td>\n",
       "    </tr>\n",
       "    <tr>\n",
       "      <th>2</th>\n",
       "      <td>20300.jpg</td>\n",
       "      <td>sea</td>\n",
       "    </tr>\n",
       "    <tr>\n",
       "      <th>3</th>\n",
       "      <td>21730.jpg</td>\n",
       "      <td>sea</td>\n",
       "    </tr>\n",
       "    <tr>\n",
       "      <th>4</th>\n",
       "      <td>20722.jpg</td>\n",
       "      <td>sea</td>\n",
       "    </tr>\n",
       "    <tr>\n",
       "      <th>...</th>\n",
       "      <td>...</td>\n",
       "      <td>...</td>\n",
       "    </tr>\n",
       "    <tr>\n",
       "      <th>2995</th>\n",
       "      <td>23155.jpg</td>\n",
       "      <td>street</td>\n",
       "    </tr>\n",
       "    <tr>\n",
       "      <th>2996</th>\n",
       "      <td>21062.jpg</td>\n",
       "      <td>street</td>\n",
       "    </tr>\n",
       "    <tr>\n",
       "      <th>2997</th>\n",
       "      <td>22786.jpg</td>\n",
       "      <td>street</td>\n",
       "    </tr>\n",
       "    <tr>\n",
       "      <th>2998</th>\n",
       "      <td>23586.jpg</td>\n",
       "      <td>street</td>\n",
       "    </tr>\n",
       "    <tr>\n",
       "      <th>2999</th>\n",
       "      <td>23795.jpg</td>\n",
       "      <td>street</td>\n",
       "    </tr>\n",
       "  </tbody>\n",
       "</table>\n",
       "<p>3000 rows × 2 columns</p>\n",
       "</div>"
      ],
      "text/plain": [
       "          Names Folder_Name\n",
       "0     20869.jpg         sea\n",
       "1     24180.jpg         sea\n",
       "2     20300.jpg         sea\n",
       "3     21730.jpg         sea\n",
       "4     20722.jpg         sea\n",
       "...         ...         ...\n",
       "2995  23155.jpg      street\n",
       "2996  21062.jpg      street\n",
       "2997  22786.jpg      street\n",
       "2998  23586.jpg      street\n",
       "2999  23795.jpg      street\n",
       "\n",
       "[3000 rows x 2 columns]"
      ]
     },
     "execution_count": 58,
     "metadata": {},
     "output_type": "execute_result"
    }
   ],
   "source": [
    "df_test"
   ]
  },
  {
   "cell_type": "code",
   "execution_count": 59,
   "id": "35b69f25",
   "metadata": {},
   "outputs": [],
   "source": [
    "df_test['folder_for_file'] = base_path+folders[1]+'/'+ df_test['Folder_Name']+'/'+df_test['Names']"
   ]
  },
  {
   "cell_type": "code",
   "execution_count": 60,
   "id": "64a64dba",
   "metadata": {},
   "outputs": [
    {
     "data": {
      "text/html": [
       "<div>\n",
       "<style scoped>\n",
       "    .dataframe tbody tr th:only-of-type {\n",
       "        vertical-align: middle;\n",
       "    }\n",
       "\n",
       "    .dataframe tbody tr th {\n",
       "        vertical-align: top;\n",
       "    }\n",
       "\n",
       "    .dataframe thead th {\n",
       "        text-align: right;\n",
       "    }\n",
       "</style>\n",
       "<table border=\"1\" class=\"dataframe\">\n",
       "  <thead>\n",
       "    <tr style=\"text-align: right;\">\n",
       "      <th></th>\n",
       "      <th>Names</th>\n",
       "      <th>Folder_Name</th>\n",
       "      <th>folder_for_file</th>\n",
       "    </tr>\n",
       "  </thead>\n",
       "  <tbody>\n",
       "    <tr>\n",
       "      <th>0</th>\n",
       "      <td>20869.jpg</td>\n",
       "      <td>sea</td>\n",
       "      <td>/home/kate/PycharmProjects/image_prediction/im...</td>\n",
       "    </tr>\n",
       "    <tr>\n",
       "      <th>1</th>\n",
       "      <td>24180.jpg</td>\n",
       "      <td>sea</td>\n",
       "      <td>/home/kate/PycharmProjects/image_prediction/im...</td>\n",
       "    </tr>\n",
       "    <tr>\n",
       "      <th>2</th>\n",
       "      <td>20300.jpg</td>\n",
       "      <td>sea</td>\n",
       "      <td>/home/kate/PycharmProjects/image_prediction/im...</td>\n",
       "    </tr>\n",
       "    <tr>\n",
       "      <th>3</th>\n",
       "      <td>21730.jpg</td>\n",
       "      <td>sea</td>\n",
       "      <td>/home/kate/PycharmProjects/image_prediction/im...</td>\n",
       "    </tr>\n",
       "    <tr>\n",
       "      <th>4</th>\n",
       "      <td>20722.jpg</td>\n",
       "      <td>sea</td>\n",
       "      <td>/home/kate/PycharmProjects/image_prediction/im...</td>\n",
       "    </tr>\n",
       "    <tr>\n",
       "      <th>...</th>\n",
       "      <td>...</td>\n",
       "      <td>...</td>\n",
       "      <td>...</td>\n",
       "    </tr>\n",
       "    <tr>\n",
       "      <th>2995</th>\n",
       "      <td>23155.jpg</td>\n",
       "      <td>street</td>\n",
       "      <td>/home/kate/PycharmProjects/image_prediction/im...</td>\n",
       "    </tr>\n",
       "    <tr>\n",
       "      <th>2996</th>\n",
       "      <td>21062.jpg</td>\n",
       "      <td>street</td>\n",
       "      <td>/home/kate/PycharmProjects/image_prediction/im...</td>\n",
       "    </tr>\n",
       "    <tr>\n",
       "      <th>2997</th>\n",
       "      <td>22786.jpg</td>\n",
       "      <td>street</td>\n",
       "      <td>/home/kate/PycharmProjects/image_prediction/im...</td>\n",
       "    </tr>\n",
       "    <tr>\n",
       "      <th>2998</th>\n",
       "      <td>23586.jpg</td>\n",
       "      <td>street</td>\n",
       "      <td>/home/kate/PycharmProjects/image_prediction/im...</td>\n",
       "    </tr>\n",
       "    <tr>\n",
       "      <th>2999</th>\n",
       "      <td>23795.jpg</td>\n",
       "      <td>street</td>\n",
       "      <td>/home/kate/PycharmProjects/image_prediction/im...</td>\n",
       "    </tr>\n",
       "  </tbody>\n",
       "</table>\n",
       "<p>3000 rows × 3 columns</p>\n",
       "</div>"
      ],
      "text/plain": [
       "          Names Folder_Name                                    folder_for_file\n",
       "0     20869.jpg         sea  /home/kate/PycharmProjects/image_prediction/im...\n",
       "1     24180.jpg         sea  /home/kate/PycharmProjects/image_prediction/im...\n",
       "2     20300.jpg         sea  /home/kate/PycharmProjects/image_prediction/im...\n",
       "3     21730.jpg         sea  /home/kate/PycharmProjects/image_prediction/im...\n",
       "4     20722.jpg         sea  /home/kate/PycharmProjects/image_prediction/im...\n",
       "...         ...         ...                                                ...\n",
       "2995  23155.jpg      street  /home/kate/PycharmProjects/image_prediction/im...\n",
       "2996  21062.jpg      street  /home/kate/PycharmProjects/image_prediction/im...\n",
       "2997  22786.jpg      street  /home/kate/PycharmProjects/image_prediction/im...\n",
       "2998  23586.jpg      street  /home/kate/PycharmProjects/image_prediction/im...\n",
       "2999  23795.jpg      street  /home/kate/PycharmProjects/image_prediction/im...\n",
       "\n",
       "[3000 rows x 3 columns]"
      ]
     },
     "execution_count": 60,
     "metadata": {},
     "output_type": "execute_result"
    }
   ],
   "source": [
    "df_test"
   ]
  },
  {
   "cell_type": "code",
   "execution_count": 61,
   "id": "a2cdd946",
   "metadata": {},
   "outputs": [],
   "source": [
    "def custom_rating(folder):\n",
    "    if folder == 'glacier':\n",
    "        return (2)\n",
    "    elif folder == 'sea':\n",
    "        return (4)\n",
    "    elif folder == 'buildings':\n",
    "        return (0)\n",
    "    elif folder == 'forest':\n",
    "        return (1)\n",
    "    elif folder == 'street':\n",
    "        return (5)\n",
    "    \n",
    "    elif folder == 'mountain':\n",
    "        return (3)\n",
    "        \n",
    "df_test['label'] = df_test.Folder_Name.apply(lambda x: custom_rating(x))"
   ]
  },
  {
   "cell_type": "code",
   "execution_count": 62,
   "id": "75ef5208",
   "metadata": {},
   "outputs": [
    {
     "data": {
      "text/html": [
       "<div>\n",
       "<style scoped>\n",
       "    .dataframe tbody tr th:only-of-type {\n",
       "        vertical-align: middle;\n",
       "    }\n",
       "\n",
       "    .dataframe tbody tr th {\n",
       "        vertical-align: top;\n",
       "    }\n",
       "\n",
       "    .dataframe thead th {\n",
       "        text-align: right;\n",
       "    }\n",
       "</style>\n",
       "<table border=\"1\" class=\"dataframe\">\n",
       "  <thead>\n",
       "    <tr style=\"text-align: right;\">\n",
       "      <th></th>\n",
       "      <th>Names</th>\n",
       "      <th>Folder_Name</th>\n",
       "      <th>folder_for_file</th>\n",
       "      <th>label</th>\n",
       "    </tr>\n",
       "  </thead>\n",
       "  <tbody>\n",
       "    <tr>\n",
       "      <th>0</th>\n",
       "      <td>20869.jpg</td>\n",
       "      <td>sea</td>\n",
       "      <td>/home/kate/PycharmProjects/image_prediction/im...</td>\n",
       "      <td>4</td>\n",
       "    </tr>\n",
       "    <tr>\n",
       "      <th>1</th>\n",
       "      <td>24180.jpg</td>\n",
       "      <td>sea</td>\n",
       "      <td>/home/kate/PycharmProjects/image_prediction/im...</td>\n",
       "      <td>4</td>\n",
       "    </tr>\n",
       "    <tr>\n",
       "      <th>2</th>\n",
       "      <td>20300.jpg</td>\n",
       "      <td>sea</td>\n",
       "      <td>/home/kate/PycharmProjects/image_prediction/im...</td>\n",
       "      <td>4</td>\n",
       "    </tr>\n",
       "    <tr>\n",
       "      <th>3</th>\n",
       "      <td>21730.jpg</td>\n",
       "      <td>sea</td>\n",
       "      <td>/home/kate/PycharmProjects/image_prediction/im...</td>\n",
       "      <td>4</td>\n",
       "    </tr>\n",
       "    <tr>\n",
       "      <th>4</th>\n",
       "      <td>20722.jpg</td>\n",
       "      <td>sea</td>\n",
       "      <td>/home/kate/PycharmProjects/image_prediction/im...</td>\n",
       "      <td>4</td>\n",
       "    </tr>\n",
       "    <tr>\n",
       "      <th>...</th>\n",
       "      <td>...</td>\n",
       "      <td>...</td>\n",
       "      <td>...</td>\n",
       "      <td>...</td>\n",
       "    </tr>\n",
       "    <tr>\n",
       "      <th>2995</th>\n",
       "      <td>23155.jpg</td>\n",
       "      <td>street</td>\n",
       "      <td>/home/kate/PycharmProjects/image_prediction/im...</td>\n",
       "      <td>5</td>\n",
       "    </tr>\n",
       "    <tr>\n",
       "      <th>2996</th>\n",
       "      <td>21062.jpg</td>\n",
       "      <td>street</td>\n",
       "      <td>/home/kate/PycharmProjects/image_prediction/im...</td>\n",
       "      <td>5</td>\n",
       "    </tr>\n",
       "    <tr>\n",
       "      <th>2997</th>\n",
       "      <td>22786.jpg</td>\n",
       "      <td>street</td>\n",
       "      <td>/home/kate/PycharmProjects/image_prediction/im...</td>\n",
       "      <td>5</td>\n",
       "    </tr>\n",
       "    <tr>\n",
       "      <th>2998</th>\n",
       "      <td>23586.jpg</td>\n",
       "      <td>street</td>\n",
       "      <td>/home/kate/PycharmProjects/image_prediction/im...</td>\n",
       "      <td>5</td>\n",
       "    </tr>\n",
       "    <tr>\n",
       "      <th>2999</th>\n",
       "      <td>23795.jpg</td>\n",
       "      <td>street</td>\n",
       "      <td>/home/kate/PycharmProjects/image_prediction/im...</td>\n",
       "      <td>5</td>\n",
       "    </tr>\n",
       "  </tbody>\n",
       "</table>\n",
       "<p>3000 rows × 4 columns</p>\n",
       "</div>"
      ],
      "text/plain": [
       "          Names Folder_Name  \\\n",
       "0     20869.jpg         sea   \n",
       "1     24180.jpg         sea   \n",
       "2     20300.jpg         sea   \n",
       "3     21730.jpg         sea   \n",
       "4     20722.jpg         sea   \n",
       "...         ...         ...   \n",
       "2995  23155.jpg      street   \n",
       "2996  21062.jpg      street   \n",
       "2997  22786.jpg      street   \n",
       "2998  23586.jpg      street   \n",
       "2999  23795.jpg      street   \n",
       "\n",
       "                                        folder_for_file  label  \n",
       "0     /home/kate/PycharmProjects/image_prediction/im...      4  \n",
       "1     /home/kate/PycharmProjects/image_prediction/im...      4  \n",
       "2     /home/kate/PycharmProjects/image_prediction/im...      4  \n",
       "3     /home/kate/PycharmProjects/image_prediction/im...      4  \n",
       "4     /home/kate/PycharmProjects/image_prediction/im...      4  \n",
       "...                                                 ...    ...  \n",
       "2995  /home/kate/PycharmProjects/image_prediction/im...      5  \n",
       "2996  /home/kate/PycharmProjects/image_prediction/im...      5  \n",
       "2997  /home/kate/PycharmProjects/image_prediction/im...      5  \n",
       "2998  /home/kate/PycharmProjects/image_prediction/im...      5  \n",
       "2999  /home/kate/PycharmProjects/image_prediction/im...      5  \n",
       "\n",
       "[3000 rows x 4 columns]"
      ]
     },
     "execution_count": 62,
     "metadata": {},
     "output_type": "execute_result"
    }
   ],
   "source": [
    "df_test"
   ]
  },
  {
   "cell_type": "code",
   "execution_count": 63,
   "id": "9517cbc6",
   "metadata": {},
   "outputs": [],
   "source": [
    "test_dataset = df_test[['folder_for_file','label']]"
   ]
  },
  {
   "cell_type": "code",
   "execution_count": 64,
   "id": "0333f9b3",
   "metadata": {},
   "outputs": [
    {
     "data": {
      "text/html": [
       "<div>\n",
       "<style scoped>\n",
       "    .dataframe tbody tr th:only-of-type {\n",
       "        vertical-align: middle;\n",
       "    }\n",
       "\n",
       "    .dataframe tbody tr th {\n",
       "        vertical-align: top;\n",
       "    }\n",
       "\n",
       "    .dataframe thead th {\n",
       "        text-align: right;\n",
       "    }\n",
       "</style>\n",
       "<table border=\"1\" class=\"dataframe\">\n",
       "  <thead>\n",
       "    <tr style=\"text-align: right;\">\n",
       "      <th></th>\n",
       "      <th>folder_for_file</th>\n",
       "      <th>label</th>\n",
       "    </tr>\n",
       "  </thead>\n",
       "  <tbody>\n",
       "    <tr>\n",
       "      <th>0</th>\n",
       "      <td>/home/kate/PycharmProjects/image_prediction/im...</td>\n",
       "      <td>4</td>\n",
       "    </tr>\n",
       "    <tr>\n",
       "      <th>1</th>\n",
       "      <td>/home/kate/PycharmProjects/image_prediction/im...</td>\n",
       "      <td>4</td>\n",
       "    </tr>\n",
       "    <tr>\n",
       "      <th>2</th>\n",
       "      <td>/home/kate/PycharmProjects/image_prediction/im...</td>\n",
       "      <td>4</td>\n",
       "    </tr>\n",
       "    <tr>\n",
       "      <th>3</th>\n",
       "      <td>/home/kate/PycharmProjects/image_prediction/im...</td>\n",
       "      <td>4</td>\n",
       "    </tr>\n",
       "    <tr>\n",
       "      <th>4</th>\n",
       "      <td>/home/kate/PycharmProjects/image_prediction/im...</td>\n",
       "      <td>4</td>\n",
       "    </tr>\n",
       "    <tr>\n",
       "      <th>...</th>\n",
       "      <td>...</td>\n",
       "      <td>...</td>\n",
       "    </tr>\n",
       "    <tr>\n",
       "      <th>2995</th>\n",
       "      <td>/home/kate/PycharmProjects/image_prediction/im...</td>\n",
       "      <td>5</td>\n",
       "    </tr>\n",
       "    <tr>\n",
       "      <th>2996</th>\n",
       "      <td>/home/kate/PycharmProjects/image_prediction/im...</td>\n",
       "      <td>5</td>\n",
       "    </tr>\n",
       "    <tr>\n",
       "      <th>2997</th>\n",
       "      <td>/home/kate/PycharmProjects/image_prediction/im...</td>\n",
       "      <td>5</td>\n",
       "    </tr>\n",
       "    <tr>\n",
       "      <th>2998</th>\n",
       "      <td>/home/kate/PycharmProjects/image_prediction/im...</td>\n",
       "      <td>5</td>\n",
       "    </tr>\n",
       "    <tr>\n",
       "      <th>2999</th>\n",
       "      <td>/home/kate/PycharmProjects/image_prediction/im...</td>\n",
       "      <td>5</td>\n",
       "    </tr>\n",
       "  </tbody>\n",
       "</table>\n",
       "<p>3000 rows × 2 columns</p>\n",
       "</div>"
      ],
      "text/plain": [
       "                                        folder_for_file  label\n",
       "0     /home/kate/PycharmProjects/image_prediction/im...      4\n",
       "1     /home/kate/PycharmProjects/image_prediction/im...      4\n",
       "2     /home/kate/PycharmProjects/image_prediction/im...      4\n",
       "3     /home/kate/PycharmProjects/image_prediction/im...      4\n",
       "4     /home/kate/PycharmProjects/image_prediction/im...      4\n",
       "...                                                 ...    ...\n",
       "2995  /home/kate/PycharmProjects/image_prediction/im...      5\n",
       "2996  /home/kate/PycharmProjects/image_prediction/im...      5\n",
       "2997  /home/kate/PycharmProjects/image_prediction/im...      5\n",
       "2998  /home/kate/PycharmProjects/image_prediction/im...      5\n",
       "2999  /home/kate/PycharmProjects/image_prediction/im...      5\n",
       "\n",
       "[3000 rows x 2 columns]"
      ]
     },
     "execution_count": 64,
     "metadata": {},
     "output_type": "execute_result"
    }
   ],
   "source": [
    "test_dataset"
   ]
  },
  {
   "cell_type": "code",
   "execution_count": 65,
   "id": "01775024",
   "metadata": {},
   "outputs": [],
   "source": [
    "test_dataset = test_dataset.rename(columns={\"folder_for_file\": \"image\"})"
   ]
  },
  {
   "cell_type": "code",
   "execution_count": 66,
   "id": "8687023a",
   "metadata": {},
   "outputs": [
    {
     "data": {
      "text/html": [
       "<div>\n",
       "<style scoped>\n",
       "    .dataframe tbody tr th:only-of-type {\n",
       "        vertical-align: middle;\n",
       "    }\n",
       "\n",
       "    .dataframe tbody tr th {\n",
       "        vertical-align: top;\n",
       "    }\n",
       "\n",
       "    .dataframe thead th {\n",
       "        text-align: right;\n",
       "    }\n",
       "</style>\n",
       "<table border=\"1\" class=\"dataframe\">\n",
       "  <thead>\n",
       "    <tr style=\"text-align: right;\">\n",
       "      <th></th>\n",
       "      <th>image</th>\n",
       "      <th>label</th>\n",
       "    </tr>\n",
       "  </thead>\n",
       "  <tbody>\n",
       "    <tr>\n",
       "      <th>0</th>\n",
       "      <td>/home/kate/PycharmProjects/image_prediction/im...</td>\n",
       "      <td>4</td>\n",
       "    </tr>\n",
       "    <tr>\n",
       "      <th>1</th>\n",
       "      <td>/home/kate/PycharmProjects/image_prediction/im...</td>\n",
       "      <td>4</td>\n",
       "    </tr>\n",
       "    <tr>\n",
       "      <th>2</th>\n",
       "      <td>/home/kate/PycharmProjects/image_prediction/im...</td>\n",
       "      <td>4</td>\n",
       "    </tr>\n",
       "    <tr>\n",
       "      <th>3</th>\n",
       "      <td>/home/kate/PycharmProjects/image_prediction/im...</td>\n",
       "      <td>4</td>\n",
       "    </tr>\n",
       "    <tr>\n",
       "      <th>4</th>\n",
       "      <td>/home/kate/PycharmProjects/image_prediction/im...</td>\n",
       "      <td>4</td>\n",
       "    </tr>\n",
       "    <tr>\n",
       "      <th>...</th>\n",
       "      <td>...</td>\n",
       "      <td>...</td>\n",
       "    </tr>\n",
       "    <tr>\n",
       "      <th>2995</th>\n",
       "      <td>/home/kate/PycharmProjects/image_prediction/im...</td>\n",
       "      <td>5</td>\n",
       "    </tr>\n",
       "    <tr>\n",
       "      <th>2996</th>\n",
       "      <td>/home/kate/PycharmProjects/image_prediction/im...</td>\n",
       "      <td>5</td>\n",
       "    </tr>\n",
       "    <tr>\n",
       "      <th>2997</th>\n",
       "      <td>/home/kate/PycharmProjects/image_prediction/im...</td>\n",
       "      <td>5</td>\n",
       "    </tr>\n",
       "    <tr>\n",
       "      <th>2998</th>\n",
       "      <td>/home/kate/PycharmProjects/image_prediction/im...</td>\n",
       "      <td>5</td>\n",
       "    </tr>\n",
       "    <tr>\n",
       "      <th>2999</th>\n",
       "      <td>/home/kate/PycharmProjects/image_prediction/im...</td>\n",
       "      <td>5</td>\n",
       "    </tr>\n",
       "  </tbody>\n",
       "</table>\n",
       "<p>3000 rows × 2 columns</p>\n",
       "</div>"
      ],
      "text/plain": [
       "                                                  image  label\n",
       "0     /home/kate/PycharmProjects/image_prediction/im...      4\n",
       "1     /home/kate/PycharmProjects/image_prediction/im...      4\n",
       "2     /home/kate/PycharmProjects/image_prediction/im...      4\n",
       "3     /home/kate/PycharmProjects/image_prediction/im...      4\n",
       "4     /home/kate/PycharmProjects/image_prediction/im...      4\n",
       "...                                                 ...    ...\n",
       "2995  /home/kate/PycharmProjects/image_prediction/im...      5\n",
       "2996  /home/kate/PycharmProjects/image_prediction/im...      5\n",
       "2997  /home/kate/PycharmProjects/image_prediction/im...      5\n",
       "2998  /home/kate/PycharmProjects/image_prediction/im...      5\n",
       "2999  /home/kate/PycharmProjects/image_prediction/im...      5\n",
       "\n",
       "[3000 rows x 2 columns]"
      ]
     },
     "execution_count": 66,
     "metadata": {},
     "output_type": "execute_result"
    }
   ],
   "source": [
    "test_dataset"
   ]
  },
  {
   "cell_type": "code",
   "execution_count": 67,
   "id": "d14c4037",
   "metadata": {},
   "outputs": [
    {
     "name": "stdout",
     "output_type": "stream",
     "text": [
      "Top-1 test acc: 0.902\n"
     ]
    }
   ],
   "source": [
    "test_acc = predictor.evaluate(test_dataset)\n",
    "print('Top-1 test acc: %.3f' % test_acc['top1'])"
   ]
  },
  {
   "cell_type": "code",
   "execution_count": 68,
   "id": "a6ab2e99",
   "metadata": {},
   "outputs": [],
   "source": [
    "a = []"
   ]
  },
  {
   "cell_type": "code",
   "execution_count": 69,
   "id": "b0f8602d",
   "metadata": {},
   "outputs": [],
   "source": [
    "for i in range(3000):\n",
    "    image_path = test_dataset.iloc[i]['image']\n",
    "    result = predictor.predict(image_path)\n",
    "    a.append(result)"
   ]
  },
  {
   "cell_type": "code",
   "execution_count": 70,
   "id": "f0370599",
   "metadata": {},
   "outputs": [
    {
     "data": {
      "text/plain": [
       "4"
      ]
     },
     "execution_count": 70,
     "metadata": {},
     "output_type": "execute_result"
    }
   ],
   "source": [
    "int(a[1])"
   ]
  },
  {
   "cell_type": "code",
   "execution_count": 71,
   "id": "ddaad3d8",
   "metadata": {},
   "outputs": [
    {
     "data": {
      "text/plain": [
       "5"
      ]
     },
     "execution_count": 71,
     "metadata": {},
     "output_type": "execute_result"
    }
   ],
   "source": [
    "int(a[2999])"
   ]
  },
  {
   "cell_type": "code",
   "execution_count": 72,
   "id": "ecccd3ee",
   "metadata": {},
   "outputs": [],
   "source": [
    "for i in range(len(a)):\n",
    "    a[i] = int(a[i])"
   ]
  },
  {
   "cell_type": "code",
   "execution_count": 73,
   "id": "69fd620b",
   "metadata": {},
   "outputs": [
    {
     "data": {
      "text/plain": [
       "3000"
      ]
     },
     "execution_count": 73,
     "metadata": {},
     "output_type": "execute_result"
    }
   ],
   "source": [
    "len(a)"
   ]
  },
  {
   "cell_type": "code",
   "execution_count": 74,
   "id": "83a2f7e9",
   "metadata": {},
   "outputs": [
    {
     "data": {
      "text/plain": [
       "5"
      ]
     },
     "execution_count": 74,
     "metadata": {},
     "output_type": "execute_result"
    }
   ],
   "source": [
    "a[2999]"
   ]
  },
  {
   "cell_type": "code",
   "execution_count": 75,
   "id": "47f08b77",
   "metadata": {},
   "outputs": [],
   "source": [
    "test_dataset['predict'] = a"
   ]
  },
  {
   "cell_type": "code",
   "execution_count": 76,
   "id": "2c37ad0b",
   "metadata": {},
   "outputs": [
    {
     "data": {
      "text/html": [
       "<div>\n",
       "<style scoped>\n",
       "    .dataframe tbody tr th:only-of-type {\n",
       "        vertical-align: middle;\n",
       "    }\n",
       "\n",
       "    .dataframe tbody tr th {\n",
       "        vertical-align: top;\n",
       "    }\n",
       "\n",
       "    .dataframe thead th {\n",
       "        text-align: right;\n",
       "    }\n",
       "</style>\n",
       "<table border=\"1\" class=\"dataframe\">\n",
       "  <thead>\n",
       "    <tr style=\"text-align: right;\">\n",
       "      <th></th>\n",
       "      <th>image</th>\n",
       "      <th>label</th>\n",
       "      <th>predict</th>\n",
       "    </tr>\n",
       "  </thead>\n",
       "  <tbody>\n",
       "    <tr>\n",
       "      <th>0</th>\n",
       "      <td>/home/kate/PycharmProjects/image_prediction/im...</td>\n",
       "      <td>4</td>\n",
       "      <td>4</td>\n",
       "    </tr>\n",
       "    <tr>\n",
       "      <th>1</th>\n",
       "      <td>/home/kate/PycharmProjects/image_prediction/im...</td>\n",
       "      <td>4</td>\n",
       "      <td>4</td>\n",
       "    </tr>\n",
       "    <tr>\n",
       "      <th>2</th>\n",
       "      <td>/home/kate/PycharmProjects/image_prediction/im...</td>\n",
       "      <td>4</td>\n",
       "      <td>4</td>\n",
       "    </tr>\n",
       "    <tr>\n",
       "      <th>3</th>\n",
       "      <td>/home/kate/PycharmProjects/image_prediction/im...</td>\n",
       "      <td>4</td>\n",
       "      <td>4</td>\n",
       "    </tr>\n",
       "    <tr>\n",
       "      <th>4</th>\n",
       "      <td>/home/kate/PycharmProjects/image_prediction/im...</td>\n",
       "      <td>4</td>\n",
       "      <td>4</td>\n",
       "    </tr>\n",
       "    <tr>\n",
       "      <th>...</th>\n",
       "      <td>...</td>\n",
       "      <td>...</td>\n",
       "      <td>...</td>\n",
       "    </tr>\n",
       "    <tr>\n",
       "      <th>2995</th>\n",
       "      <td>/home/kate/PycharmProjects/image_prediction/im...</td>\n",
       "      <td>5</td>\n",
       "      <td>5</td>\n",
       "    </tr>\n",
       "    <tr>\n",
       "      <th>2996</th>\n",
       "      <td>/home/kate/PycharmProjects/image_prediction/im...</td>\n",
       "      <td>5</td>\n",
       "      <td>5</td>\n",
       "    </tr>\n",
       "    <tr>\n",
       "      <th>2997</th>\n",
       "      <td>/home/kate/PycharmProjects/image_prediction/im...</td>\n",
       "      <td>5</td>\n",
       "      <td>5</td>\n",
       "    </tr>\n",
       "    <tr>\n",
       "      <th>2998</th>\n",
       "      <td>/home/kate/PycharmProjects/image_prediction/im...</td>\n",
       "      <td>5</td>\n",
       "      <td>5</td>\n",
       "    </tr>\n",
       "    <tr>\n",
       "      <th>2999</th>\n",
       "      <td>/home/kate/PycharmProjects/image_prediction/im...</td>\n",
       "      <td>5</td>\n",
       "      <td>5</td>\n",
       "    </tr>\n",
       "  </tbody>\n",
       "</table>\n",
       "<p>3000 rows × 3 columns</p>\n",
       "</div>"
      ],
      "text/plain": [
       "                                                  image  label  predict\n",
       "0     /home/kate/PycharmProjects/image_prediction/im...      4        4\n",
       "1     /home/kate/PycharmProjects/image_prediction/im...      4        4\n",
       "2     /home/kate/PycharmProjects/image_prediction/im...      4        4\n",
       "3     /home/kate/PycharmProjects/image_prediction/im...      4        4\n",
       "4     /home/kate/PycharmProjects/image_prediction/im...      4        4\n",
       "...                                                 ...    ...      ...\n",
       "2995  /home/kate/PycharmProjects/image_prediction/im...      5        5\n",
       "2996  /home/kate/PycharmProjects/image_prediction/im...      5        5\n",
       "2997  /home/kate/PycharmProjects/image_prediction/im...      5        5\n",
       "2998  /home/kate/PycharmProjects/image_prediction/im...      5        5\n",
       "2999  /home/kate/PycharmProjects/image_prediction/im...      5        5\n",
       "\n",
       "[3000 rows x 3 columns]"
      ]
     },
     "execution_count": 76,
     "metadata": {},
     "output_type": "execute_result"
    }
   ],
   "source": [
    "test_dataset"
   ]
  },
  {
   "cell_type": "code",
   "execution_count": 77,
   "id": "59fa0b2a",
   "metadata": {},
   "outputs": [],
   "source": [
    "from sklearn.utils import shuffle"
   ]
  },
  {
   "cell_type": "code",
   "execution_count": 78,
   "id": "6670ece0",
   "metadata": {},
   "outputs": [],
   "source": [
    "shuffled_train_dataset = shuffle(train_dataset, random_state=1)"
   ]
  },
  {
   "cell_type": "code",
   "execution_count": 79,
   "id": "f40dbe6c",
   "metadata": {},
   "outputs": [
    {
     "data": {
      "text/html": [
       "<div>\n",
       "<style scoped>\n",
       "    .dataframe tbody tr th:only-of-type {\n",
       "        vertical-align: middle;\n",
       "    }\n",
       "\n",
       "    .dataframe tbody tr th {\n",
       "        vertical-align: top;\n",
       "    }\n",
       "\n",
       "    .dataframe thead th {\n",
       "        text-align: right;\n",
       "    }\n",
       "</style>\n",
       "<table border=\"1\" class=\"dataframe\">\n",
       "  <thead>\n",
       "    <tr style=\"text-align: right;\">\n",
       "      <th></th>\n",
       "      <th>image</th>\n",
       "      <th>label</th>\n",
       "    </tr>\n",
       "  </thead>\n",
       "  <tbody>\n",
       "    <tr>\n",
       "      <th>9306</th>\n",
       "      <td>/home/kate/PycharmProjects/image_prediction/im...</td>\n",
       "      <td>3</td>\n",
       "    </tr>\n",
       "    <tr>\n",
       "      <th>5299</th>\n",
       "      <td>/home/kate/PycharmProjects/image_prediction/im...</td>\n",
       "      <td>1</td>\n",
       "    </tr>\n",
       "    <tr>\n",
       "      <th>5725</th>\n",
       "      <td>/home/kate/PycharmProjects/image_prediction/im...</td>\n",
       "      <td>1</td>\n",
       "    </tr>\n",
       "    <tr>\n",
       "      <th>8912</th>\n",
       "      <td>/home/kate/PycharmProjects/image_prediction/im...</td>\n",
       "      <td>3</td>\n",
       "    </tr>\n",
       "    <tr>\n",
       "      <th>10406</th>\n",
       "      <td>/home/kate/PycharmProjects/image_prediction/im...</td>\n",
       "      <td>0</td>\n",
       "    </tr>\n",
       "    <tr>\n",
       "      <th>...</th>\n",
       "      <td>...</td>\n",
       "      <td>...</td>\n",
       "    </tr>\n",
       "    <tr>\n",
       "      <th>905</th>\n",
       "      <td>/home/kate/PycharmProjects/image_prediction/im...</td>\n",
       "      <td>4</td>\n",
       "    </tr>\n",
       "    <tr>\n",
       "      <th>5192</th>\n",
       "      <td>/home/kate/PycharmProjects/image_prediction/im...</td>\n",
       "      <td>1</td>\n",
       "    </tr>\n",
       "    <tr>\n",
       "      <th>12172</th>\n",
       "      <td>/home/kate/PycharmProjects/image_prediction/im...</td>\n",
       "      <td>5</td>\n",
       "    </tr>\n",
       "    <tr>\n",
       "      <th>235</th>\n",
       "      <td>/home/kate/PycharmProjects/image_prediction/im...</td>\n",
       "      <td>4</td>\n",
       "    </tr>\n",
       "    <tr>\n",
       "      <th>13349</th>\n",
       "      <td>/home/kate/PycharmProjects/image_prediction/im...</td>\n",
       "      <td>5</td>\n",
       "    </tr>\n",
       "  </tbody>\n",
       "</table>\n",
       "<p>14034 rows × 2 columns</p>\n",
       "</div>"
      ],
      "text/plain": [
       "                                                   image  label\n",
       "9306   /home/kate/PycharmProjects/image_prediction/im...      3\n",
       "5299   /home/kate/PycharmProjects/image_prediction/im...      1\n",
       "5725   /home/kate/PycharmProjects/image_prediction/im...      1\n",
       "8912   /home/kate/PycharmProjects/image_prediction/im...      3\n",
       "10406  /home/kate/PycharmProjects/image_prediction/im...      0\n",
       "...                                                  ...    ...\n",
       "905    /home/kate/PycharmProjects/image_prediction/im...      4\n",
       "5192   /home/kate/PycharmProjects/image_prediction/im...      1\n",
       "12172  /home/kate/PycharmProjects/image_prediction/im...      5\n",
       "235    /home/kate/PycharmProjects/image_prediction/im...      4\n",
       "13349  /home/kate/PycharmProjects/image_prediction/im...      5\n",
       "\n",
       "[14034 rows x 2 columns]"
      ]
     },
     "execution_count": 79,
     "metadata": {},
     "output_type": "execute_result"
    }
   ],
   "source": [
    "shuffled_train_dataset"
   ]
  },
  {
   "cell_type": "code",
   "execution_count": 80,
   "id": "8d712aa5",
   "metadata": {},
   "outputs": [
    {
     "name": "stderr",
     "output_type": "stream",
     "text": [
      "ImagePredictor sets accuracy as default eval_metric for classification problems.\n",
      "Converting raw DataFrame to ImageDataset...\n",
      "Detected 6 unique classes: [0, 1, 2, 3, 4, 5]\n",
      "If you feel the `classes` is inaccurate, please construct the dataset explicitly, e.g. train_data = ImageDataset(train_data, classes=[\"foo\", \"bar\"])\n",
      "Randomly split train_data into train[12630]/validation[1404] splits.\n",
      "The number of requested GPUs is greater than the number of available GPUs.Reduce the number to 1\n",
      "Starting HPO experiments\n"
     ]
    },
    {
     "data": {
      "application/vnd.jupyter.widget-view+json": {
       "model_id": "c647834e57e54e2f8956f0814dfa1501",
       "version_major": 2,
       "version_minor": 0
      },
      "text/plain": [
       "  0%|          | 0/2 [00:00<?, ?it/s]"
      ]
     },
     "metadata": {},
     "output_type": "display_data"
    },
    {
     "name": "stderr",
     "output_type": "stream",
     "text": [
      "=============================================================================\n",
      "WARNING: Using MXNet models in ImagePredictor is deprecated as of v0.4.0 and may contain various bugs and issues!\n",
      "In v0.5.0, ImagePredictor will no longer support training MXNet models. Please consider switching to specifying Torch models instead.\n",
      "Users should ensure they update their code that depends on ImagePredictor when upgrading to future AutoGluon releases.\n",
      "For more information, refer to this GitHub issue: https://github.com/awslabs/autogluon/issues/1560\n",
      "=============================================================================\n",
      "\n",
      "modified configs(<old> != <new>): {\n",
      "root.img_cls.model   resnet50_v1 != resnet18_v1b\n",
      "root.train.batch_size 128 != 8\n",
      "root.train.rec_train ~/.mxnet/datasets/imagenet/rec/train.rec != auto\n",
      "root.train.early_stop_max_value 1.0 != inf\n",
      "root.train.early_stop_patience -1 != 10\n",
      "root.train.rec_train_idx ~/.mxnet/datasets/imagenet/rec/train.idx != auto\n",
      "root.train.rec_val   ~/.mxnet/datasets/imagenet/rec/val.rec != auto\n",
      "root.train.data_dir  ~/.mxnet/datasets/imagenet != auto\n",
      "root.train.epochs    10 != 2\n",
      "root.train.num_training_samples 1281167 != -1\n",
      "root.train.early_stop_baseline 0.0 != -inf\n",
      "root.train.lr        0.1 != 0.01\n",
      "root.train.rec_val_idx ~/.mxnet/datasets/imagenet/rec/val.idx != auto\n",
      "root.train.num_workers 4 != 12\n",
      "root.valid.num_workers 4 != 12\n",
      "root.valid.batch_size 128 != 8\n",
      "}\n",
      "Saved config to /home/kate/PycharmProjects/image_prediction/ed126493/.trial_0/config.yaml\n",
      "[18:27:29] ../src/imperative/./imperative_utils.h:93: GPU support is disabled. Compile MXNet with USE_CUDA=1 to enable GPU support.\n",
      "No gpu detected, fallback to cpu. You can ignore this warning if this is intended.\n",
      "Start training from [Epoch 0]\n",
      "Epoch[0] Batch [49]\tSpeed: 23.783318 samples/sec\taccuracy=0.322500\tlr=0.010000\n",
      "Epoch[0] Batch [99]\tSpeed: 22.002150 samples/sec\taccuracy=0.460000\tlr=0.010000\n",
      "Epoch[0] Batch [149]\tSpeed: 21.863516 samples/sec\taccuracy=0.513333\tlr=0.010000\n",
      "Epoch[0] Batch [199]\tSpeed: 23.269351 samples/sec\taccuracy=0.552500\tlr=0.010000\n",
      "Epoch[0] Batch [249]\tSpeed: 22.646777 samples/sec\taccuracy=0.581000\tlr=0.010000\n",
      "Epoch[0] Batch [299]\tSpeed: 22.141287 samples/sec\taccuracy=0.594167\tlr=0.010000\n",
      "Epoch[0] Batch [349]\tSpeed: 23.413786 samples/sec\taccuracy=0.606786\tlr=0.010000\n",
      "Epoch[0] Batch [399]\tSpeed: 20.753998 samples/sec\taccuracy=0.623437\tlr=0.010000\n",
      "Epoch[0] Batch [449]\tSpeed: 20.961989 samples/sec\taccuracy=0.631111\tlr=0.010000\n",
      "Epoch[0] Batch [499]\tSpeed: 21.781982 samples/sec\taccuracy=0.640000\tlr=0.010000\n",
      "Epoch[0] Batch [549]\tSpeed: 22.895640 samples/sec\taccuracy=0.647500\tlr=0.010000\n",
      "Epoch[0] Batch [599]\tSpeed: 24.044776 samples/sec\taccuracy=0.655000\tlr=0.010000\n",
      "Epoch[0] Batch [649]\tSpeed: 23.899848 samples/sec\taccuracy=0.660769\tlr=0.010000\n",
      "Epoch[0] Batch [699]\tSpeed: 24.844323 samples/sec\taccuracy=0.668571\tlr=0.010000\n",
      "Epoch[0] Batch [749]\tSpeed: 21.942533 samples/sec\taccuracy=0.673667\tlr=0.010000\n",
      "Epoch[0] Batch [799]\tSpeed: 22.698496 samples/sec\taccuracy=0.679688\tlr=0.010000\n",
      "Epoch[0] Batch [849]\tSpeed: 22.408057 samples/sec\taccuracy=0.684706\tlr=0.010000\n",
      "Epoch[0] Batch [899]\tSpeed: 23.824543 samples/sec\taccuracy=0.689722\tlr=0.010000\n",
      "Epoch[0] Batch [949]\tSpeed: 23.573720 samples/sec\taccuracy=0.690921\tlr=0.010000\n",
      "Epoch[0] Batch [999]\tSpeed: 20.733278 samples/sec\taccuracy=0.692500\tlr=0.010000\n",
      "Epoch[0] Batch [1049]\tSpeed: 20.873138 samples/sec\taccuracy=0.696905\tlr=0.010000\n",
      "Epoch[0] Batch [1099]\tSpeed: 24.643967 samples/sec\taccuracy=0.701136\tlr=0.010000\n",
      "Epoch[0] Batch [1149]\tSpeed: 23.774545 samples/sec\taccuracy=0.704239\tlr=0.010000\n",
      "Epoch[0] Batch [1199]\tSpeed: 22.340898 samples/sec\taccuracy=0.707083\tlr=0.010000\n",
      "Epoch[0] Batch [1249]\tSpeed: 22.300973 samples/sec\taccuracy=0.709800\tlr=0.010000\n",
      "Epoch[0] Batch [1299]\tSpeed: 23.809957 samples/sec\taccuracy=0.713365\tlr=0.010000\n",
      "Epoch[0] Batch [1349]\tSpeed: 21.795185 samples/sec\taccuracy=0.716852\tlr=0.010000\n",
      "Epoch[0] Batch [1399]\tSpeed: 21.946692 samples/sec\taccuracy=0.718661\tlr=0.010000\n",
      "Epoch[0] Batch [1449]\tSpeed: 23.369696 samples/sec\taccuracy=0.720862\tlr=0.010000\n",
      "Epoch[0] Batch [1499]\tSpeed: 21.790278 samples/sec\taccuracy=0.723667\tlr=0.010000\n",
      "Epoch[0] Batch [1549]\tSpeed: 21.788202 samples/sec\taccuracy=0.724758\tlr=0.010000\n",
      "[Epoch 0] training: accuracy=0.725998\n",
      "[Epoch 0] speed: 22 samples/sec\ttime cost: 558.380372\n",
      "[Epoch 0] validation: top1=0.879630 top5=0.998575\n",
      "[Epoch 0] Current best top-1: 0.879630 vs previous -inf, saved to /home/kate/PycharmProjects/image_prediction/ed126493/.trial_0/best_checkpoint.pkl\n",
      "Epoch[1] Batch [49]\tSpeed: 19.184160 samples/sec\taccuracy=0.760000\tlr=0.010000\n",
      "`time_limit=599.9782106876373` reached, exit early...\n",
      "Applying the state from the best checkpoint...\n",
      "[18:37:37] ../src/imperative/./imperative_utils.h:93: GPU support is disabled. Compile MXNet with USE_CUDA=1 to enable GPU support.\n",
      "\tStopping HPO to satisfy time limit...\n",
      "=============================================================================\n",
      "WARNING: Using MXNet models in ImagePredictor is deprecated as of v0.4.0 and may contain various bugs and issues!\n",
      "In v0.5.0, ImagePredictor will no longer support training MXNet models. Please consider switching to specifying Torch models instead.\n",
      "Users should ensure they update their code that depends on ImagePredictor when upgrading to future AutoGluon releases.\n",
      "For more information, refer to this GitHub issue: https://github.com/awslabs/autogluon/issues/1560\n",
      "=============================================================================\n",
      "\n",
      "[18:37:38] ../src/imperative/./imperative_utils.h:93: GPU support is disabled. Compile MXNet with USE_CUDA=1 to enable GPU support.\n",
      "Saving Training Curve in /home/kate/PycharmProjects/image_prediction/ed126493/plot_training_curves.png\n"
     ]
    },
    {
     "data": {
      "image/png": "[encoded data removed]",
      "text/plain": [
       "<Figure size 432x288 with 1 Axes>"
      ]
     },
     "metadata": {
      "needs_background": "light"
     },
     "output_type": "display_data"
    },
    {
     "name": "stderr",
     "output_type": "stream",
     "text": [
      "Finished, total runtime is 609.71 s\n",
      "{ 'best_config': { 'estimator': <class 'gluoncv.auto.estimators.image_classification.image_classification.ImageClassificationEstimator'>,\n",
      "                   'gpus': [0],\n",
      "                   'img_cls': { 'batch_norm': False,\n",
      "                                'last_gamma': False,\n",
      "                                'model': 'resnet18_v1b',\n",
      "                                'use_gn': False,\n",
      "                                'use_pretrained': True,\n",
      "                                'use_se': False},\n",
      "                   'train': { 'batch_size': 8,\n",
      "                              'crop_ratio': 0.875,\n",
      "                              'data_dir': 'auto',\n",
      "                              'dtype': 'float32',\n",
      "                              'early_stop_baseline': -inf,\n",
      "                              'early_stop_max_value': inf,\n",
      "                              'early_stop_min_delta': 0.001,\n",
      "                              'early_stop_patience': 10,\n",
      "                              'epochs': 2,\n",
      "                              'hard_weight': 0.5,\n",
      "                              'input_size': 224,\n",
      "                              'label_smoothing': False,\n",
      "                              'log_interval': 50,\n",
      "                              'lr': 0.01,\n",
      "                              'lr_decay': 0.1,\n",
      "                              'lr_decay_epoch': '40, 60',\n",
      "                              'lr_decay_period': 0,\n",
      "                              'lr_mode': 'step',\n",
      "                              'mixup': False,\n",
      "                              'mixup_alpha': 0.2,\n",
      "                              'mixup_off_epoch': 0,\n",
      "                              'mode': '',\n",
      "                              'momentum': 0.9,\n",
      "                              'no_wd': False,\n",
      "                              'num_training_samples': -1,\n",
      "                              'num_workers': 12,\n",
      "                              'output_lr_mult': 0.1,\n",
      "                              'pretrained_base': True,\n",
      "                              'rec_train': 'auto',\n",
      "                              'rec_train_idx': 'auto',\n",
      "                              'rec_val': 'auto',\n",
      "                              'rec_val_idx': 'auto',\n",
      "                              'resume_epoch': 0,\n",
      "                              'start_epoch': 0,\n",
      "                              'teacher': None,\n",
      "                              'temperature': 20,\n",
      "                              'transfer_lr_mult': 0.01,\n",
      "                              'use_rec': False,\n",
      "                              'warmup_epochs': 0,\n",
      "                              'warmup_lr': 0.0,\n",
      "                              'wd': 0.0001},\n",
      "                   'valid': {'batch_size': 8, 'num_workers': 12}},\n",
      "  'total_time': 609.5169146060944,\n",
      "  'train_acc': 0.76,\n",
      "  'valid_acc': 0.8796296296296297}\n"
     ]
    },
    {
     "name": "stdout",
     "output_type": "stream",
     "text": [
      "Top-1 val acc: 0.880\n"
     ]
    }
   ],
   "source": [
    "hyperparameters={'model': model, 'batch_size': batch_size, 'lr': lr, 'epochs': 2}\n",
    "predictor = ImagePredictor()\n",
    "predictor.fit(shuffled_train_dataset, time_limit=60*10, hyperparameters=hyperparameters,\n",
    "              hyperparameter_tune_kwargs={'num_trials': 2})\n",
    "print('Top-1 val acc: %.3f' % predictor.fit_summary()['valid_acc'])"
   ]
  },
  {
   "cell_type": "code",
   "execution_count": 81,
   "id": "78186932",
   "metadata": {},
   "outputs": [
    {
     "name": "stdout",
     "output_type": "stream",
     "text": [
      "Top-1 test acc: 0.887\n"
     ]
    }
   ],
   "source": [
    "test_acc = predictor.evaluate(test_dataset)\n",
    "print('Top-1 test acc: %.3f' % test_acc['top1'])"
   ]
  },
  {
   "cell_type": "code",
   "execution_count": null,
   "id": "12b8ccb3",
   "metadata": {},
   "outputs": [],
   "source": []
  }
 ],
 "metadata": {
  "kernelspec": {
   "display_name": "Python 3 (ipykernel)",
   "language": "python",
   "name": "python3"
  },
  "language_info": {
   "codemirror_mode": {
    "name": "ipython",
    "version": 3
   },
   "file_extension": ".py",
   "mimetype": "text/x-python",
   "name": "python",
   "nbconvert_exporter": "python",
   "pygments_lexer": "ipython3",
   "version": "3.8.10"
  }
 },
 "nbformat": 4,
 "nbformat_minor": 5
}
